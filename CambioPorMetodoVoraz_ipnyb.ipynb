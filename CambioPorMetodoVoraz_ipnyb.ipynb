{
  "nbformat": 4,
  "nbformat_minor": 0,
  "metadata": {
    "colab": {
      "name": "CambioPorMetodoVoraz.ipnyb",
      "provenance": [],
      "collapsed_sections": [],
      "toc_visible": true,
      "include_colab_link": true
    },
    "kernelspec": {
      "name": "python3",
      "display_name": "Python 3"
    }
  },
  "cells": [
    {
      "cell_type": "markdown",
      "metadata": {
        "id": "view-in-github",
        "colab_type": "text"
      },
      "source": [
        "<a href=\"https://colab.research.google.com/github/VictorVazquezRey/03MAIR--Algoritmos-de-Optimizacion--2020/blob/master/CambioPorMetodoVoraz_ipnyb.ipynb\" target=\"_parent\"><img src=\"https://colab.research.google.com/assets/colab-badge.svg\" alt=\"Open In Colab\"/></a>"
      ]
    },
    {
      "cell_type": "markdown",
      "metadata": {
        "id": "jTHNz5zB58CO",
        "colab_type": "text"
      },
      "source": [
        "### Esta es una implementación del método voraz utilizado para resolver el problema de devolver el cambio con el mínimo número de monedas."
      ]
    },
    {
      "cell_type": "markdown",
      "metadata": {
        "id": "h_EDBoj6A15f",
        "colab_type": "text"
      },
      "source": [
        "Estas líneas permiten cargar el método de la burbuja implementado anteriormente para utilizarlo en el algoritmo voraz que voy a implementar a continuación."
      ]
    },
    {
      "cell_type": "code",
      "metadata": {
        "id": "_BipPHJ0-xAB",
        "colab_type": "code",
        "outputId": "ec9499da-3c4f-4f65-aa19-ae1f9346f2b7",
        "colab": {
          "base_uri": "https://localhost:8080/",
          "height": 72
        }
      },
      "source": [
        "%cd /content/drive/My\\ Drive/Colab\\ Notebooks\n",
        "%run MetodoDeLaBurbuja.ipynb"
      ],
      "execution_count": 0,
      "outputs": [
        {
          "output_type": "stream",
          "text": [
            "/content/drive/My Drive/Colab Notebooks\n",
            "Lista ordenada de menor a mayor: [0, 1, 2, 3, 4, 5, 6, 7, 8, 9]\n",
            "Lista ordenada de mayor a menor: [9, 8, 7, 6, 5, 4, 3, 2, 1, 0]\n"
          ],
          "name": "stdout"
        }
      ]
    },
    {
      "cell_type": "code",
      "metadata": {
        "id": "RdCkqmtxMh9x",
        "colab_type": "code",
        "colab": {}
      },
      "source": [
        "def devolucion_cambio(tipos_moneda:list, valor_a_devolver:int)-> list:\n",
        "  solucion = []\n",
        "  ## La lista de monedas debe estar ordenada de mayor a menor\n",
        "  tm = ordenar_por_burbuja(tipos_moneda, lt)\n",
        "  index = 0 \n",
        "\n",
        "  while index < len(tm)  and valor_a_devolver > 0:\n",
        "    k = valor_a_devolver // tm[index]\n",
        "    # Esta instrucción comprueba si el candidato actual (la moneda más grade)\n",
        "    # se puede incluir a la solución. (k representa la cantidad de monedas de\n",
        "    # ese importe)   \n",
        "    if k  and valor_a_devolver - (k*tm[index]) >= 0:\n",
        "      valor_a_devolver -= (k*tm[index])\n",
        "      solucion.append([tm[index], k])\n",
        "    else:\n",
        "      index += 1    \n",
        "\n",
        "  # En un esquema de búsqueda clásico al salir del bucle con doble condición\n",
        "  # se pregunta para actuar en  función de la condición insatisfecha.\n",
        "  # El primer caso es el de solución no encontrada.\n",
        "  if index >= len(tm):\n",
        "    print('No hay solución')\n",
        "    return None\n",
        "  else:\n",
        "    return solucion"
      ],
      "execution_count": 0,
      "outputs": []
    },
    {
      "cell_type": "code",
      "metadata": {
        "id": "SbyTUlBfDVbb",
        "colab_type": "code",
        "outputId": "96276e9c-1e35-4b34-cb0b-060b7dbda58c",
        "colab": {
          "base_uri": "https://localhost:8080/",
          "height": 35
        }
      },
      "source": [
        "# Según el enunciado del problema se asume un número infinito de monedas.\n",
        "# Sería sencillo cambiar el algoritmo para que acepte una lista de listas de\n",
        "# monedas con sus cantidades.\n",
        "tipos_moneda = [1, 2, 5, 10, 20, 50, 100, 200, 500]\n",
        "\n",
        "devolucion_cambio(tipos_moneda, 49)"
      ],
      "execution_count": 0,
      "outputs": [
        {
          "output_type": "execute_result",
          "data": {
            "text/plain": [
              "[[20, 2], [5, 1], [2, 2]]"
            ]
          },
          "metadata": {
            "tags": []
          },
          "execution_count": 20
        }
      ]
    },
    {
      "cell_type": "code",
      "metadata": {
        "id": "JTdy0CsgKuyo",
        "colab_type": "code",
        "outputId": "3e3d501d-a79b-4707-ad3e-ffcfc6db5b32",
        "colab": {
          "base_uri": "https://localhost:8080/",
          "height": 35
        }
      },
      "source": [
        "tipos_moneda = [5, 100, 200, 500]\n",
        "\n",
        "# Caso sin solución\n",
        "devolucion_cambio(tipos_moneda, 937)"
      ],
      "execution_count": 0,
      "outputs": [
        {
          "output_type": "stream",
          "text": [
            "No hay solución\n"
          ],
          "name": "stdout"
        }
      ]
    }
  ]
}