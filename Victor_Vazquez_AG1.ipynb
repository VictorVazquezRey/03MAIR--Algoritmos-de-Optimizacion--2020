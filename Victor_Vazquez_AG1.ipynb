{
 "cells": [
  {
   "cell_type": "markdown",
   "metadata": {
    "colab_type": "text",
    "id": "view-in-github"
   },
   "source": [
    "<a href=\"https://colab.research.google.com/github/VictorVazquezRey/03MAIR--Algoritmos-de-Optimizacion--2020/blob/Ejercicios/Victor_Vazquez_AG1.ipynb\" target=\"_parent\"><img src=\"https://colab.research.google.com/assets/colab-badge.svg\" alt=\"Open In Colab\"/></a>"
   ]
  },
  {
   "cell_type": "markdown",
   "metadata": {
    "colab_type": "text",
    "id": "zaA7aKZ4Yhze"
   },
   "source": [
    "### Actividad guiada 1 de Algoritmos de Optimización\n",
    "*Victor Vazquez Rey*\n",
    "\n",
    "[https://colab.research.google.com/drive/1QhXCYfYAiA4rGHWHFj7Zx2cFVLnpJmLo?usp=sharing](https://colab.research.google.com/drive/1QhXCYfYAiA4rGHWHFj7Zx2cFVLnpJmLo?usp=sharing)\n",
    "\n",
    "[https://github.com/VictorVazquezRey/03MAIR--Algoritmos-de-Optimizacion--2020](https://github.com/VictorVazquezRey/03MAIR--Algoritmos-de-Optimizacion--2020)"
   ]
  },
  {
   "cell_type": "markdown",
   "metadata": {
    "colab_type": "text",
    "id": "WUSzCbJSZTcM"
   },
   "source": [
    "Espacio inicial para cargar librerías y generar un álias a los magic"
   ]
  },
  {
   "cell_type": "code",
   "execution_count": null,
   "metadata": {
    "colab": {
     "base_uri": "https://localhost:8080/",
     "height": 54
    },
    "colab_type": "code",
    "id": "div8qFjhZptb",
    "outputId": "af3dba06-0dc0-4c48-f6bc-a87934029fc7"
   },
   "outputs": [
    {
     "name": "stdout",
     "output_type": "stream",
     "text": [
      "Created `%t` as an alias for `%time`.\n",
      "Created `%%t` as an alias for `%%time`.\n"
     ]
    }
   ],
   "source": [
    "%alias_magic t time\n",
    "import numpy as np\n",
    "from math import inf "
   ]
  },
  {
   "cell_type": "markdown",
   "metadata": {
    "colab_type": "text",
    "id": "Nl5tEZCKrGcv"
   },
   "source": [
    "#### Resolución del problema de las Torres de Hanoi con la técnica de divide y vencerás"
   ]
  },
  {
   "cell_type": "code",
   "execution_count": null,
   "metadata": {
    "colab": {
     "base_uri": "https://localhost:8080/",
     "height": 623
    },
    "colab_type": "code",
    "id": "RqCav4rbYJ2z",
    "outputId": "f9fe3029-053d-48f9-c0f1-786b6b83cda7"
   },
   "outputs": [
    {
     "name": "stdout",
     "output_type": "stream",
     "text": [
      "CPU times: user 9 µs, sys: 2 µs, total: 11 µs\n",
      "Wall time: 20.7 µs\n",
      "[[5, 4, 3, 2], [], [1]]\n",
      "[[5, 4, 3], [2], [1]]\n",
      "[[5, 4, 3], [2, 1], []]\n",
      "[[5, 4], [2, 1], [3]]\n",
      "[[5, 4, 1], [2], [3]]\n",
      "[[5, 4, 1], [], [3, 2]]\n",
      "[[5, 4], [], [3, 2, 1]]\n",
      "[[5], [4], [3, 2, 1]]\n",
      "[[5], [4, 1], [3, 2]]\n",
      "[[5, 2], [4, 1], [3]]\n",
      "[[5, 2, 1], [4], [3]]\n",
      "[[5, 2, 1], [4, 3], []]\n",
      "[[5, 2], [4, 3], [1]]\n",
      "[[5], [4, 3, 2], [1]]\n",
      "[[5], [4, 3, 2, 1], []]\n",
      "[[], [4, 3, 2, 1], [5]]\n",
      "[[1], [4, 3, 2], [5]]\n",
      "[[1], [4, 3], [5, 2]]\n",
      "[[], [4, 3], [5, 2, 1]]\n",
      "[[3], [4], [5, 2, 1]]\n",
      "[[3], [4, 1], [5, 2]]\n",
      "[[3, 2], [4, 1], [5]]\n",
      "[[3, 2, 1], [4], [5]]\n",
      "[[3, 2, 1], [], [5, 4]]\n",
      "[[3, 2], [], [5, 4, 1]]\n",
      "[[3], [2], [5, 4, 1]]\n",
      "[[3], [2, 1], [5, 4]]\n",
      "[[], [2, 1], [5, 4, 3]]\n",
      "[[1], [2], [5, 4, 3]]\n",
      "[[1], [], [5, 4, 3, 2]]\n",
      "[[], [], [5, 4, 3, 2, 1]]\n"
     ]
    }
   ],
   "source": [
    "%t\n",
    "def hanoi(n:int,origin:list, helper:list, target:list, game: list):\n",
    "    if n > 0:\n",
    "        hanoi(n-1, origin, target, helper, game)\n",
    "        target.append(origin.pop())\n",
    "        print(game)\n",
    "        hanoi(n-1, helper, origin, target, game)\n",
    "\n",
    "\n",
    "# These are like stacks. More to the rigth more up\n",
    "origin = []\n",
    "helper = []\n",
    "target = []\n",
    "\n",
    "# This is used to print, because origin, helper and target are changed\n",
    "# across calls. \n",
    "game = [origin, helper, target]\n",
    "\n",
    "# Change n\n",
    "n = 5\n",
    "for i in range(n, 0, -1):\n",
    "  origin.append(i)\n",
    "hanoi(n, origin, helper, target, game)"
   ]
  },
  {
   "cell_type": "markdown",
   "metadata": {
    "colab_type": "text",
    "id": "ziMeuwIj2j5u"
   },
   "source": [
    "##### Estudio de la complejidad computacional\n",
    "\n",
    "Puesto que el algoritmo es recursivo, estudiar su complejidad computacional pasa por extraer la recurrecia.\n",
    "Llamaremos $n$ al tamaño a considerar del problema siendo $n$ el número de discos.\n",
    "\n",
    "La recurrencia es:\n",
    "$$T(n) =\n",
    "\\begin{cases}\n",
    "1,    &\\text{si n=1} \\\\\n",
    "2\\cdot T(n-1) + 1, &\\text{si n > 1}\n",
    "\\end{cases}$$\n",
    "\n",
    "Existen diversas maneras de resolver esta recurrencia. Puesto que en el análisis de la complejidad no es necesario la resolución completa (quiero decir con esto que no es necesario despejar los valores numéricos al querer deducir a qué orden pertenece), voy a resolver esa recurrencia lineal no homogénea por el método de la ecuación característica. (Cambio ligeramente la notación)\n",
    "\n",
    "$\\require{cancel}$\n",
    "\\begin{align}\n",
    "t_n &= 2t_{n-1} + 1\\\\\n",
    "t_n-2t_{n-1} &= 1\\cdot1^k &&\\text{separo la parte homogénea de la no homogénea}\\\\\n",
    "(x-2)\\cdot(x-1)&=0 &&\\text{ecuación carácterística}\n",
    "\\end{align}\n",
    "\n",
    "Que se resuelve con:\n",
    "\n",
    "$$\\require{cancel} t_n= c_0\\cdot 2^n + c_1\\cdot \\cancel{1^n} \\in O(2^n)$$\n"
   ]
  },
  {
   "cell_type": "markdown",
   "metadata": {
    "colab_type": "text",
    "id": "NXO_4l2swj9R"
   },
   "source": [
    "#### Resolución del problema del cambio de monedas por la técnica voraz"
   ]
  },
  {
   "cell_type": "markdown",
   "metadata": {
    "colab_type": "text",
    "id": "Hr98XiqQxHXi"
   },
   "source": [
    "Estas líneas permiten cargar el método de la burbuja implementado anteriormente para utilizarlo en el algoritmo voraz que voy a implementar a continuación."
   ]
  },
  {
   "cell_type": "code",
   "execution_count": null,
   "metadata": {
    "colab": {
     "base_uri": "https://localhost:8080/",
     "height": 72
    },
    "colab_type": "code",
    "id": "bksc1vpgwz0X",
    "outputId": "d55107d3-ea58-4678-9dd2-6b07d137086c"
   },
   "outputs": [
    {
     "name": "stdout",
     "output_type": "stream",
     "text": [
      "/content/drive/My Drive/Colab Notebooks\n",
      "Lista ordenada de menor a mayor: [0, 1, 2, 3, 4, 5, 6, 7, 8, 9]\n",
      "Lista ordenada de mayor a menor: [9, 8, 7, 6, 5, 4, 3, 2, 1, 0]\n"
     ]
    }
   ],
   "source": [
    "%cd /content/drive/My\\ Drive/Colab\\ Notebooks\n",
    "%run MetodoDeLaBurbuja.ipynb"
   ]
  },
  {
   "cell_type": "markdown",
   "metadata": {
    "colab_type": "text",
    "id": "ER7h-_CvxyOj"
   },
   "source": [
    "Implementación"
   ]
  },
  {
   "cell_type": "code",
   "execution_count": null,
   "metadata": {
    "colab": {},
    "colab_type": "code",
    "id": "Qn862RCHxuNm"
   },
   "outputs": [],
   "source": [
    "def devolucion_cambio(tipos_moneda:list, valor_a_devolver:int)-> list:\n",
    "  result = []\n",
    "  ## La lista de monedas debe estar ordenada de mayor a menor\n",
    "  tm = ordenar_por_burbuja(tipos_moneda, lt)\n",
    "  index = 0 \n",
    "\n",
    "  while index < len(tm)  and valor_a_devolver > 0:\n",
    "    k = valor_a_devolver // tm[index]\n",
    "    # Esta instrucción comprueba si el candidato actual (la moneda más grade)\n",
    "    # se puede incluir a la solución. (k representa la cantidad de monedas de\n",
    "    # ese importe)   \n",
    "    if k  and valor_a_devolver - (k*tm[index]) >= 0:\n",
    "      valor_a_devolver -= (k*tm[index])\n",
    "      result.append([tm[index], k])\n",
    "    else:\n",
    "      index += 1    \n",
    "\n",
    "  # En un esquema de búsqueda clásico al salir del bucle con doble condición\n",
    "  # se pregunta para actuar en  función de la condición insatisfecha.\n",
    "  # El primer caso es el de solución no encontrada.\n",
    "  if index >= len(tm):\n",
    "    print('No hay solución')\n",
    "    return None\n",
    "  else:\n",
    "    return result"
   ]
  },
  {
   "cell_type": "code",
   "execution_count": null,
   "metadata": {
    "colab": {
     "base_uri": "https://localhost:8080/",
     "height": 72
    },
    "colab_type": "code",
    "id": "SbyTUlBfDVbb",
    "outputId": "272aca22-e0da-40e6-9535-142d28709fdc"
   },
   "outputs": [
    {
     "name": "stdout",
     "output_type": "stream",
     "text": [
      "CPU times: user 2 µs, sys: 0 ns, total: 2 µs\n",
      "Wall time: 4.77 µs\n"
     ]
    },
    {
     "data": {
      "text/plain": [
       "[[20, 2], [5, 1], [2, 2]]"
      ]
     },
     "execution_count": 5,
     "metadata": {
      "tags": []
     },
     "output_type": "execute_result"
    }
   ],
   "source": [
    "%t\n",
    "# Según el enunciado del problema se asume un número infinito de monedas.\n",
    "# Sería sencillo cambiar el algoritmo para que acepte una lista de listas de\n",
    "# monedas con sus cantidades.\n",
    "tipos_moneda = [1, 2, 5, 10, 20, 50, 100, 200, 500]\n",
    "\n",
    "devolucion_cambio(tipos_moneda, 49)"
   ]
  },
  {
   "cell_type": "code",
   "execution_count": null,
   "metadata": {
    "colab": {
     "base_uri": "https://localhost:8080/",
     "height": 72
    },
    "colab_type": "code",
    "id": "JTdy0CsgKuyo",
    "outputId": "f09b092e-5cfa-4977-e779-0d1142f834a1"
   },
   "outputs": [
    {
     "name": "stdout",
     "output_type": "stream",
     "text": [
      "CPU times: user 4 µs, sys: 0 ns, total: 4 µs\n",
      "Wall time: 8.58 µs\n",
      "No hay solución\n"
     ]
    }
   ],
   "source": [
    "%t\n",
    "tipos_moneda = [5, 100, 200, 500]\n",
    "\n",
    "# Caso sin solución\n",
    "devolucion_cambio(tipos_moneda, 937)"
   ]
  },
  {
   "cell_type": "markdown",
   "metadata": {
    "colab_type": "text",
    "id": "21i_z_WzFQaI"
   },
   "source": [
    "##### Estudio de la complejidad computacional\n",
    "\n",
    "Si llamamos $n$ al conjunto de monedas distintas de un sistema monetario y pretendemos hacer un estudio de la complejidad de este algoritmo en el peor caso, es fácil ver que la instrucción crítica es la comprobación del bucle while que en el peor caso hará tantas como $n+1$.\n",
    "Obviamente la ordenación previa desvirtúa este estudio (porque se puede imponer como precondición que el sistema monetario venga con esta ordenación) y por tanto se va a asumir sin pérdida de generalidad.\n",
    "\n",
    "Siendo así el coste computacional de este algoritmo obviando la ordenación $\\in O(n)$\n"
   ]
  },
  {
   "cell_type": "markdown",
   "metadata": {
    "colab_type": "text",
    "id": "JljlaEv5GeoM"
   },
   "source": [
    "##### Estudio de los sistemas monetarios.\n",
    "\n"
   ]
  },
  {
   "cell_type": "markdown",
   "metadata": {
    "colab_type": "text",
    "id": "TPnf_CNNznjR"
   },
   "source": [
    "#### Resolución del problema de las cuatro reinas por la técnica del backtracking"
   ]
  },
  {
   "cell_type": "markdown",
   "metadata": {
    "colab_type": "text",
    "id": "vcjPgRlqz4qb"
   },
   "source": [
    "Se implementa con un closure para simplificar la interfaz de la función de cara al llamante y utilizar las variables de maniobra de forma interna."
   ]
  },
  {
   "cell_type": "code",
   "execution_count": null,
   "metadata": {
    "colab": {
     "base_uri": "https://localhost:8080/",
     "height": 72
    },
    "colab_type": "code",
    "id": "eBHnUwVHztAh",
    "outputId": "a93cedce-1807-4706-beb1-d2d968d3885e"
   },
   "outputs": [
    {
     "name": "stdout",
     "output_type": "stream",
     "text": [
      "CPU times: user 2 µs, sys: 0 ns, total: 2 µs\n",
      "Wall time: 5.72 µs\n",
      "[1, 3, 0, 2]\n"
     ]
    }
   ],
   "source": [
    "%t\n",
    "def queens (n:int) -> list:\n",
    "    board = []\n",
    "    def canBeSet(row:int, board: list, elem:int) -> bool:\n",
    "        if row == 0:\n",
    "            return True\n",
    "\n",
    "        for i in range(row):\n",
    "            if board[i] == elem:\n",
    "                return False\n",
    "            elif abs(board[i] - elem) == abs(i - row):\n",
    "                return False\n",
    "\n",
    "        return True\n",
    "\n",
    "    def recursive_queen(row:int, board:list, n:int) -> bool:\n",
    "        if row < n:            \n",
    "            for j in range(n):\n",
    "                if canBeSet(row,board,j):\n",
    "                    board.append(j)\n",
    "                    if recursive_queen(row+1, board, n):\n",
    "                        return True\n",
    "                    board.pop()\n",
    "            return False\n",
    "        return True\n",
    "    \n",
    "    if recursive_queen(0, board, n):\n",
    "        return board\n",
    "    else:\n",
    "        return []\n",
    "\n",
    "print(queens(4))\n"
   ]
  },
  {
   "cell_type": "markdown",
   "metadata": {
    "colab_type": "text",
    "id": "eC_iEMRTHRuU"
   },
   "source": [
    "#### Resolución del problema de encontrar los dos puntos más cercanos.\n",
    "Inicialmente se va a suponer que tenemos una única dimensión y vamos a buscar una solución por fuerza bruta que pasa por calcular la distancia a cada punto con todos los demás.\n",
    "Obviamente no vamos a comparar cada par de puntos dos veces, por lo que el bucle más interno solamente debe mirar a los que están por delante.\n"
   ]
  },
  {
   "cell_type": "code",
   "execution_count": null,
   "metadata": {
    "colab": {
     "base_uri": "https://localhost:8080/",
     "height": 72
    },
    "colab_type": "code",
    "id": "WkuFpLHcHm9x",
    "outputId": "04c142c5-2968-4315-da5f-8c52c03596f0"
   },
   "outputs": [
    {
     "name": "stdout",
     "output_type": "stream",
     "text": [
      "CPU times: user 1 µs, sys: 0 ns, total: 1 µs\n",
      "Wall time: 4.77 µs\n",
      "Los puntos más cercanos son el 6873 y el 6873 que están en la posición 5 y 497 respectivamente\n"
     ]
    }
   ],
   "source": [
    "%t\n",
    "def nearest_points_brute_force_1D(points:'nparray')->'nparray':\n",
    "    min_distance = inf\n",
    "    nearest_points = []\n",
    "    positions = []\n",
    "    for i in range(len(points)):\n",
    "        for j in range(i+1, len(points)):\n",
    "            actual_distance = distance(points, i, j)\n",
    "            if actual_distance < min_distance:\n",
    "                nearest_points = [points[i], points[j]]\n",
    "                positions = [i, j]\n",
    "                min_distance = actual_distance\n",
    "    return nearest_points, positions\n",
    "\n",
    "def distance(points, i, j):\n",
    "    return abs(points[i] - points[j])\n",
    "\n",
    "\n",
    "points = np.random.randint(1, 10001, size=1000)\n",
    "nearest_points, positions = nearest_points_brute_force_1D(points)\n",
    "print('Los puntos más cercanos son el', nearest_points[0], 'y el', \n",
    "      nearest_points[1], 'que están en la posición', positions[0],'y',\n",
    "      positions[1], 'respectivamente')"
   ]
  },
  {
   "cell_type": "markdown",
   "metadata": {
    "colab_type": "text",
    "id": "_phx0iPpT8eI"
   },
   "source": [
    "##### Estudio de la complejidad computacional.\n",
    "\n",
    "Si tomamos como el tamaño del problema a la cantidad de puntos y lo designamos por n, y puesto que todas las instrucciones internas y externas a los bucles son de complejidad $\\in O(1)$ incluida la función $distance$ podemos concluir que la instrucción crítica puede ser la comparación interna en el bucle \n",
    ">  for j in range(i+1, len(points))\n",
    "\n",
    "Que se ejecuta:\n",
    "\n",
    "$\\require{cancel}$\n",
    "\\begin{align}\n",
    "\\sum_{i=1}^{n} \\sum_{j=i+1}^{n} 1 &= \\sum_{i=1}^{n} n - i \\cancel{- 1} \\cancel{+ 1} && \\text{Resolviendo el sumatorio interno} \\\\\n",
    "&= (n-1) + (n-2) + \\cdots + 1 + 0 && \\text{Desarrollando el sumatorio} \\\\\n",
    "&= \\sum_{i=1}^{n} i && \\text{La suma de una sucesión aritmética} \\\\\n",
    "&= \\frac{(1+n)}{2} \\cdot n \\\\\n",
    "&= \\frac{(n^2+n)}{2} \\in O(n^2)\n",
    "\\end{align}\n",
    "\n",
    "Y por tanto esa es la complejidad computacional del algoritmo de fuerza bruta.\n"
   ]
  },
  {
   "cell_type": "markdown",
   "metadata": {
    "colab_type": "text",
    "id": "l-S7WNkaau3n"
   },
   "source": [
    "##### ¿Se puede mejorar?\n",
    "\n",
    "Aplicando una ordenación previa, que con un algoritmo eficiente requiere un coste $\\in O(n\\cdot log_2(n))$, podríamos aplicar la técnica de divide y vencerás y mejorar la complejidad $\\in O(n^2)$ del algoritmo de fuerza bruta."
   ]
  },
  {
   "cell_type": "code",
   "execution_count": null,
   "metadata": {
    "colab": {
     "base_uri": "https://localhost:8080/",
     "height": 72
    },
    "colab_type": "code",
    "id": "bjHMlyJQE9TB",
    "outputId": "62d62074-5a65-4066-e30d-b23cca00ed76"
   },
   "outputs": [
    {
     "name": "stdout",
     "output_type": "stream",
     "text": [
      "CPU times: user 2 µs, sys: 0 ns, total: 2 µs\n",
      "Wall time: 4.29 µs\n",
      "Los puntos más cercanos son el 124 y el 124 que están en la posición 10 y 11 respectivamente y a una distancia de 0\n"
     ]
    }
   ],
   "source": [
    "%t\n",
    "import numpy as np\n",
    "from math import inf\n",
    "\n",
    "\n",
    "def nearest_points(points: 'nparray', linf: int, lsup: int) -> 'nparray':\n",
    "    size = lsup - linf + 1\n",
    "    if size>1:\n",
    "        half = (linf + lsup) // 2\n",
    "        nearest_points_left, positions_left, distance_left = nearest_points(points, linf, half)\n",
    "        nearest_points_right, positions_right, distance_right = nearest_points(points, half + 1, lsup)\n",
    "        nearest_points_central, positions_central, distance_central = [points[half],\n",
    "                                                                       points[half + 1]], \\\n",
    "                                                                      [half, half + 1], \\\n",
    "                                                                      distance(points, half, half + 1)\n",
    "        if distance_left <= distance_right:\n",
    "            if distance_left <= distance_central:\n",
    "                return nearest_points_left, positions_left, distance_left\n",
    "        else:\n",
    "            if distance_right <= distance_central:\n",
    "                return nearest_points_right, positions_right, distance_right\n",
    "\n",
    "        return nearest_points_central, positions_central, distance_central\n",
    "    else:\n",
    "        return None, None, inf\n",
    "\n",
    "\n",
    "def nearest_points_divide_and_conquer_1D(points: 'nparray') -> 'nparray':\n",
    "    points = np.sort(points, kind='heapsort')\n",
    "    return nearest_points(points, 0, points.size-1)\n",
    "\n",
    "\n",
    "def distance(points:'nparray', i:int, j:int)->float:\n",
    "    return abs(points[i] - points[j])\n",
    "\n",
    "\n",
    "points = np.random.randint(1, 10001, size=1000)\n",
    "nearest_points, positions, distance = nearest_points_divide_and_conquer_1D(points)\n",
    "\n",
    "print('Los puntos más cercanos son el', nearest_points[0], 'y el',\n",
    "      nearest_points[1], 'que están en la posición', positions[0],'y',\n",
    "      positions[1], 'respectivamente', 'y a una distancia de', distance)"
   ]
  },
  {
   "cell_type": "markdown",
   "metadata": {
    "colab_type": "text",
    "id": "LukV2IeEFWhG"
   },
   "source": [
    "##### Estudio de la complejidad computacional.\n",
    "En este caso tenemos la función sort que se ejecuta una vez y que en el caso de la ordenación por heapsort tiene en el peor de los casos una complejidad $\\in O(n\\cdot log(n))$.\n",
    "A eso hay que sumar la siguiente recurrencia:\n",
    "\n",
    "$$T(n) =\n",
    "\\begin{cases}\n",
    "1,    &\\text{si }n \\leq 1 \\\\\n",
    "T(\\lceil\\frac{n}{2}\\rceil)+T(\\lfloor\\frac{n}{2}\\rfloor)+1, &\\text{si }n > 1\n",
    "\\end{cases}$$\n",
    "\n",
    "La resolución de la siguiente recurrencia pasa por el siguiente cambio de variable:\n",
    "\n",
    "$$n = 2^k \\Rightarrow \\lceil\\frac{n}{2}\\rceil=\\lfloor\\frac{n}{2}\\rfloor=\\frac{n}{2}$$\n",
    "\n",
    "Y entonces en el caso general:\n",
    "\n",
    "$\\require{cancel}$\n",
    "\\begin{align}\n",
    "T(2^k) &=T(\\lceil\\frac{2^k}{2}\\rceil)+T(\\lfloor\\frac{2^k}{2}\\rfloor)+1 \\\\\n",
    "T(2^k) &=2\\cdot T(2^{k-1})+1 \\\\\n",
    "T(2^k) - 2\\cdot T(2^{k-1}) &= 1\\cdot 1^k &&\\text{introduciendo un cambio de notación} \\\\\n",
    "t_k - 2\\cdot t_{k-1} &= 1\\cdot 1^k &&\\text{con ecuación carácteristica} \\\\\n",
    "(x-2)(x-1) &= 0 \\\\\n",
    "\\end{align}\n",
    "\n",
    "Resolviendo:\n",
    "$\\require{cancel}$\n",
    "$$t_k = c_0\\cdot 2^k + c_1\\cdot \\cancel{1^k}$$\n",
    "\n",
    "Reintroduciéndo la variable n:\n",
    "\n",
    "$$n = 2^k \\Rightarrow k = log_2(n)$$\n",
    "$$t_n = c_0\\cdot n + c_1 \\in O(n)$$\n",
    "\n",
    "Así pues lo más costoso es la ordenación y por tanto el algoritmo general tiene un coste $\\in O(n\\cdot log_2(n))$ que mejora el anterior.\n",
    "\n"
   ]
  },
  {
   "cell_type": "markdown",
   "metadata": {
    "colab_type": "text",
    "id": "pAacjJRBNMUn"
   },
   "source": [
    "##### ¿Se puede mejorar?\n",
    "\n",
    "No parece que sea mejorable, al menos bajando el orden (aunque se pueda mejorar la constante multiplicativa). En una dimensión sería equivalente a sacar el mínimo de las distancias de los puntos estándo estos ordenados y la mejor ordenación posible tiene un coste $\\in O(n\\cdot log(n))$. "
   ]
  },
  {
   "cell_type": "markdown",
   "metadata": {
    "colab_type": "text",
    "id": "cgXjt3Ia7hJa"
   },
   "source": [
    "##### Extender el algoritmo a 2D\n",
    "Esta es la implementación del algoritmo para puntos en 2D.\n",
    "Lo más relevante es el cálculo de la menor distancia central que se obtiene eligiendo un intervalo de puntos cuya coordenada en x estén separados un máximo de la distancia mínima de los dos subintervalos laterales.\n",
    "Una explicación gráfica la he encontrado en [este enlace.](https://www.geeksforgeeks.org/closest-pair-of-points-using-divide-and-conquer-algorithm/)"
   ]
  },
  {
   "cell_type": "code",
   "execution_count": null,
   "metadata": {
    "colab": {
     "base_uri": "https://localhost:8080/",
     "height": 72
    },
    "colab_type": "code",
    "id": "vYu98jVx7t14",
    "outputId": "a67ce17a-d425-40dc-f235-5ab63a392c45"
   },
   "outputs": [
    {
     "name": "stdout",
     "output_type": "stream",
     "text": [
      "CPU times: user 2 µs, sys: 0 ns, total: 2 µs\n",
      "Wall time: 4.29 µs\n",
      "Los puntos más cercanos son el [6409  975] y el [6410  969] que están a una distancia de 6.0828\n"
     ]
    }
   ],
   "source": [
    "%t\n",
    "import numpy as np\n",
    "from math import inf\n",
    "from math import sqrt\n",
    "\n",
    "\n",
    "def calculate_central(min_distance:float, points:'nparray', half: int):\n",
    "    middle = [points[half]]\n",
    "    i = half-1\n",
    "    while i>0 and distance_1D(points,i,half) < min_distance:\n",
    "        middle.insert(0, points[i])\n",
    "        i -= 1\n",
    "    i = half+1\n",
    "    while i < points.shape[0] and distance_1D(points, i, half) < min_distance:\n",
    "        middle.append(points[i])\n",
    "        i += 1\n",
    "    middle = np.array(sorted(middle, key=lambda point: point[1]))\n",
    "\n",
    "    min = inf\n",
    "    nearest_points = []\n",
    "\n",
    "    for i,point in enumerate(middle):\n",
    "        j = i+1\n",
    "        while j<middle.shape[0] and distance_1D(middle, i, j, axis=1) < min_distance:\n",
    "            actual_distance = distance(middle,i,j)\n",
    "            if actual_distance < min_distance:\n",
    "                min = actual_distance\n",
    "                nearest_points = [middle[i], middle[j]]\n",
    "            j += 1\n",
    "    return nearest_points, min\n",
    "\n",
    "\n",
    "def nearest_points(points: 'nparray') -> 'nparray':\n",
    "    if points.shape[0]==2:\n",
    "        return points, distance(points,0,1)\n",
    "    elif points.shape[0]>2:\n",
    "        half = points.shape[0] // 2\n",
    "        nearest_points_left, distance_left = nearest_points(points[0:half])\n",
    "        nearest_points_right, distance_right = nearest_points(points[half:])\n",
    "        nearest_points_central, distance_central = calculate_central(min(distance_left,distance_right),\n",
    "                                                                     points,\n",
    "                                                                     half)\n",
    "        if distance_left <= distance_right:\n",
    "            if distance_left <= distance_central:\n",
    "                return nearest_points_left, distance_left\n",
    "        else:\n",
    "            if distance_right <= distance_central:\n",
    "                return nearest_points_right, distance_right\n",
    "\n",
    "        return nearest_points_central,distance_central\n",
    "    else:\n",
    "        return None, inf\n",
    "\n",
    "\n",
    "# Como la ordenación es estable en sorted a partir de este punto el array points\n",
    "# y todas sus vistas estarán ordenados según la coordenada x.\n",
    "def nearest_points_divide_and_conquer_2D(points: 'nparray') -> 'nparray':\n",
    "    points = np.array(sorted(points, key=lambda point:point[0]))\n",
    "    return nearest_points(points)\n",
    "\n",
    "\n",
    "# La distancia euclidea\n",
    "def distance(points:'nparray', i:int, j:int)->float:\n",
    "    result = 0\n",
    "    for x,y in zip(points[i],points[j]):\n",
    "        result += (x-y)**2\n",
    "    return sqrt(result)\n",
    "\n",
    "def distance_1D(points:'nparray', i:int, j:int, axis: int=0)->float:\n",
    "    return abs(points[i][axis] - points[j][axis])\n",
    "\n",
    "\n",
    "# Esta instrucción ya obtiene 1000 puntos en 2D aleatorios con coordenadas entre 1 y 10000\n",
    "points = np.random.randint(1, 10001, size=(1000,2))\n",
    "nearest_points, distance = nearest_points_divide_and_conquer_2D(points)\n",
    "\n",
    "print('Los puntos más cercanos son el', nearest_points[0], 'y el',\n",
    "      nearest_points[1], 'que están a una distancia de', \"{:.4f}\".format(distance))"
   ]
  },
  {
   "cell_type": "markdown",
   "metadata": {
    "colab_type": "text",
    "id": "tNYBl4Hw9TDU"
   },
   "source": [
    "##### Estudio de la complejidad\n",
    "\n",
    "La complejidad sigue siendo $\\in O(n\\cdot log(n))$ puesto que la recurrencia es ahora:\n",
    "\n",
    "$$T(n) =\n",
    "\\begin{cases}\n",
    "1,    &\\text{si }n \\leq 1 \\\\\n",
    "T(\\lceil\\frac{n}{2}\\rceil)+T(\\lfloor\\frac{n}{2}\\rfloor)+n, &\\text{si }n > 1\n",
    "\\end{cases}$$\n",
    "\n",
    "De forma análoga la resolución de la siguiente recurrencia pasa por el siguiente cambio de variable:\n",
    "\n",
    "$$n = 2^k \\Rightarrow \\lceil\\frac{n}{2}\\rceil=\\lfloor\\frac{n}{2}\\rfloor=\\frac{n}{2}$$\n",
    "\n",
    "Y entonces en el caso general:\n",
    "\n",
    "$\\require{cancel}$\n",
    "\\begin{align}\n",
    "T(2^k) &=T(\\lceil\\frac{2^k}{2}\\rceil)+T(\\lfloor\\frac{2^k}{2}\\rfloor)+n \\\\\n",
    "T(2^k) &=2\\cdot T(2^{k-1})+2^k \\\\\n",
    "T(2^k) - 2\\cdot T(2^{k-1}) &= 1\\cdot 2^k &&\\text{introduciendo un cambio de notación} \\\\\n",
    "t_k - 2\\cdot t_{k-1} &= 1\\cdot 2^k &&\\text{con ecuación carácteristica} \\\\\n",
    "(x-2)^2 &= 0 \\\\\n",
    "\\end{align}\n",
    "\n",
    "Resolviendo:\n",
    "$$t_k = c_0\\cdot k\\cdot 2^k + c_1\\cdot2^k$$\n",
    "\n",
    "Reintroduciéndo la variable n:\n",
    "\n",
    "$$n = 2^k \\Rightarrow k = log_2(n)$$\n",
    "$$t_n = c_0\\cdot n\\cdot  log_2(n) + c_1 \\cdot n\\in O(n\\cdot log_2(n))$$\n",
    "\n",
    "Que coincide con la ordenación y por tanto nos mantenemos en el mismo orden.\n",
    "\n"
   ]
  },
  {
   "cell_type": "markdown",
   "metadata": {
    "colab_type": "text",
    "id": "LRWVO4OY_GJC"
   },
   "source": [
    "##### Extender el algoritmo a 3D\n",
    "La extensión a 3D implica un cambio mínimo teniendo en cuenta que ya antes la función que calcula la distancia euclídea es igualmente válida para puntos de dimensión n. La idea anterior es igualmente válida. "
   ]
  },
  {
   "cell_type": "code",
   "execution_count": null,
   "metadata": {
    "colab": {
     "base_uri": "https://localhost:8080/",
     "height": 72
    },
    "colab_type": "code",
    "id": "a5mrxytdF0eS",
    "outputId": "805c067c-c7cd-4cae-d6a5-4dbb0f6350b7"
   },
   "outputs": [
    {
     "name": "stdout",
     "output_type": "stream",
     "text": [
      "CPU times: user 2 µs, sys: 0 ns, total: 2 µs\n",
      "Wall time: 4.53 µs\n",
      "Los puntos más cercanos son el [8441 8837  696] y el [8420 8857  680] que están a una distancia de 33.1210\n"
     ]
    }
   ],
   "source": [
    "%t\n",
    "import numpy as np\n",
    "from math import inf\n",
    "from math import sqrt\n",
    "\n",
    "def calculate_central(min_distance:float, points:'nparray', half: int):\n",
    "    middle = [points[half]]\n",
    "    i = half-1\n",
    "    while i>0 and distance_1D(points,i,half) < min_distance:\n",
    "        middle.insert(0, points[i])\n",
    "        i -= 1\n",
    "    i = half+1\n",
    "    while i < points.shape[0] and distance_1D(points, i, half) < min_distance:\n",
    "        middle.append(points[i])\n",
    "        i += 1\n",
    "    middle = np.array(sorted(middle, key=lambda point: point[1]))\n",
    "\n",
    "    min = inf\n",
    "    nearest_points = []\n",
    "\n",
    "    for i,point in enumerate(middle):\n",
    "        j = i+1\n",
    "        while j<middle.shape[0] and distance_1D(middle, i, j, axis=1) < min_distance:\n",
    "            actual_distance = distance(middle,i,j)\n",
    "            if actual_distance < min_distance:\n",
    "                min = actual_distance\n",
    "                nearest_points = [middle[i], middle[j]]\n",
    "            j += 1\n",
    "    return nearest_points, min\n",
    "\n",
    "\n",
    "def nearest_points(points: 'nparray') -> 'nparray':\n",
    "    if points.shape[0]==2:\n",
    "        return points, distance(points,0,1)\n",
    "    elif points.shape[0]>2:\n",
    "        half = points.shape[0] // 2\n",
    "        nearest_points_left, distance_left = nearest_points(points[0:half])\n",
    "        nearest_points_right, distance_right = nearest_points(points[half:])\n",
    "        nearest_points_central, distance_central = calculate_central(min(distance_left,distance_right),\n",
    "                                                                     points,\n",
    "                                                                     half)\n",
    "        if distance_left <= distance_right:\n",
    "            if distance_left <= distance_central:\n",
    "                return nearest_points_left, distance_left\n",
    "        else:\n",
    "            if distance_right <= distance_central:\n",
    "                return nearest_points_right, distance_right\n",
    "\n",
    "        return nearest_points_central,distance_central\n",
    "    else:\n",
    "        return None, inf\n",
    "\n",
    "\n",
    "# Como la ordenación es estable en sorted a partir de este punto el array points\n",
    "# y todas sus vistas estarán ordenados según la coordenada x.\n",
    "def nearest_points_divide_and_conquer_3D(points: 'nparray') -> 'nparray':\n",
    "    points = np.array(sorted(points, key=lambda point:point[0]))\n",
    "    return nearest_points(points)\n",
    "\n",
    "\n",
    "# La distancia euclidea\n",
    "def distance(points:'nparray', i:int, j:int)->float:\n",
    "    result = 0\n",
    "    for x,y in zip(points[i],points[j]):\n",
    "        result += (x-y)**2\n",
    "    return sqrt(result)\n",
    "\n",
    "def distance_1D(points:'nparray', i:int, j:int, axis: int=0)->float:\n",
    "    return abs(points[i][axis] - points[j][axis])\n",
    "\n",
    "\n",
    "# Esta instrucción ya obtiene 1000 puntos en 2D aleatorios con coordenadas entre 1 y 10000\n",
    "points = np.random.randint(1, 10001, size=(1000, 3))\n",
    "nearest_points, distance = nearest_points_divide_and_conquer_3D(points)\n",
    "\n",
    "print('Los puntos más cercanos son el', nearest_points[0], 'y el',\n",
    "      nearest_points[1], 'que están a una distancia de', \"{:.4f}\".format(distance))"
   ]
  },
  {
   "cell_type": "markdown",
   "metadata": {
    "colab_type": "text",
    "id": "5Yh6YphUGJS7"
   },
   "source": [
    "##### Estudio de la complejidad.\n",
    "\n",
    "El estudio es idéntico al caso de 2D."
   ]
  }
 ],
 "metadata": {
  "colab": {
   "collapsed_sections": [],
   "include_colab_link": true,
   "name": "Victor Vazquez-AG1.ipynb",
   "provenance": [],
   "toc_visible": true
  },
  "hide_input": false,
  "kernelspec": {
   "display_name": "Python 3",
   "language": "python",
   "name": "python3"
  },
  "language_info": {
   "codemirror_mode": {
    "name": "ipython",
    "version": 3
   },
   "file_extension": ".py",
   "mimetype": "text/x-python",
   "name": "python",
   "nbconvert_exporter": "python",
   "pygments_lexer": "ipython3",
   "version": "3.7.6"
  },
  "toc": {
   "base_numbering": 1,
   "nav_menu": {},
   "number_sections": true,
   "sideBar": true,
   "skip_h1_title": false,
   "title_cell": "Table of Contents",
   "title_sidebar": "Contents",
   "toc_cell": false,
   "toc_position": {},
   "toc_section_display": true,
   "toc_window_display": false
  },
  "varInspector": {
   "cols": {
    "lenName": 16,
    "lenType": 16,
    "lenVar": 40
   },
   "kernels_config": {
    "python": {
     "delete_cmd_postfix": "",
     "delete_cmd_prefix": "del ",
     "library": "var_list.py",
     "varRefreshCmd": "print(var_dic_list())"
    },
    "r": {
     "delete_cmd_postfix": ") ",
     "delete_cmd_prefix": "rm(",
     "library": "var_list.r",
     "varRefreshCmd": "cat(var_dic_list()) "
    }
   },
   "types_to_exclude": [
    "module",
    "function",
    "builtin_function_or_method",
    "instance",
    "_Feature"
   ],
   "window_display": false
  }
 },
 "nbformat": 4,
 "nbformat_minor": 1
}
