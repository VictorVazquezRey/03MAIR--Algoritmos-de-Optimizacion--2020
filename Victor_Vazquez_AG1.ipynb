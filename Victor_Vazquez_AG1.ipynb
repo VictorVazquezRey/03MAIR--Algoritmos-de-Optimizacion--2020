{
  "nbformat": 4,
  "nbformat_minor": 0,
  "metadata": {
    "colab": {
      "name": "Victor Vazquez-AG1.ipynb",
      "provenance": [],
      "collapsed_sections": [],
      "toc_visible": true,
      "mount_file_id": "1QhXCYfYAiA4rGHWHFj7Zx2cFVLnpJmLo",
      "authorship_tag": "ABX9TyNyRzSm82alOwvtZJsYxVOo",
      "include_colab_link": true
    },
    "kernelspec": {
      "name": "python3",
      "display_name": "Python 3"
    }
  },
  "cells": [
    {
      "cell_type": "markdown",
      "metadata": {
        "id": "view-in-github",
        "colab_type": "text"
      },
      "source": [
        "<a href=\"https://colab.research.google.com/github/VictorVazquezRey/03MAIR--Algoritmos-de-Optimizacion--2020/blob/master/Victor_Vazquez_AG1.ipynb\" target=\"_parent\"><img src=\"https://colab.research.google.com/assets/colab-badge.svg\" alt=\"Open In Colab\"/></a>"
      ]
    },
    {
      "cell_type": "markdown",
      "metadata": {
        "id": "zaA7aKZ4Yhze",
        "colab_type": "text"
      },
      "source": [
        "### Actividad guiada 1 de Algoritmos de Optimización\n",
        "*Victor Vazquez Rey*\n",
        "\n",
        "[https://colab.research.google.com/drive/1QhXCYfYAiA4rGHWHFj7Zx2cFVLnpJmLo?usp=sharing](https://colab.research.google.com/drive/1QhXCYfYAiA4rGHWHFj7Zx2cFVLnpJmLo?usp=sharing)\n",
        "\n",
        "[https://github.com/VictorVazquezRey/03MAIR--Algoritmos-de-Optimizacion--2020](https://github.com/VictorVazquezRey/03MAIR--Algoritmos-de-Optimizacion--2020)"
      ]
    },
    {
      "cell_type": "markdown",
      "metadata": {
        "id": "Nl5tEZCKrGcv",
        "colab_type": "text"
      },
      "source": [
        "#### Resolución del problema de las Torres de Hanoi con la técnica de divide y vencerás"
      ]
    },
    {
      "cell_type": "code",
      "metadata": {
        "id": "RqCav4rbYJ2z",
        "colab_type": "code",
        "colab": {
          "base_uri": "https://localhost:8080/",
          "height": 586
        },
        "outputId": "563574a7-3252-402b-d151-5b99d480c002"
      },
      "source": [
        "def hanoi(n:int,origin:list, helper:list, target:list, game: list):\n",
        "    if n > 0:\n",
        "        hanoi(n-1, origin, target, helper, game)\n",
        "        target.append(origin.pop())\n",
        "        print(game)\n",
        "        hanoi(n-1, helper, origin, target, game)\n",
        "\n",
        "\n",
        "# These are like stacks. More to the rigth more up\n",
        "origin = []\n",
        "helper = []\n",
        "target = []\n",
        "\n",
        "# This is used to print, because origin, helper and target are changed\n",
        "# across calls. \n",
        "game = [origin, helper, target]\n",
        "\n",
        "# Change n\n",
        "n = 5\n",
        "for i in range(n, 0, -1):\n",
        "  origin.append(i)\n",
        "hanoi(n, origin, helper, target, game)"
      ],
      "execution_count": 7,
      "outputs": [
        {
          "output_type": "stream",
          "text": [
            "[[5, 4, 3, 2], [], [1]]\n",
            "[[5, 4, 3], [2], [1]]\n",
            "[[5, 4, 3], [2, 1], []]\n",
            "[[5, 4], [2, 1], [3]]\n",
            "[[5, 4, 1], [2], [3]]\n",
            "[[5, 4, 1], [], [3, 2]]\n",
            "[[5, 4], [], [3, 2, 1]]\n",
            "[[5], [4], [3, 2, 1]]\n",
            "[[5], [4, 1], [3, 2]]\n",
            "[[5, 2], [4, 1], [3]]\n",
            "[[5, 2, 1], [4], [3]]\n",
            "[[5, 2, 1], [4, 3], []]\n",
            "[[5, 2], [4, 3], [1]]\n",
            "[[5], [4, 3, 2], [1]]\n",
            "[[5], [4, 3, 2, 1], []]\n",
            "[[], [4, 3, 2, 1], [5]]\n",
            "[[1], [4, 3, 2], [5]]\n",
            "[[1], [4, 3], [5, 2]]\n",
            "[[], [4, 3], [5, 2, 1]]\n",
            "[[3], [4], [5, 2, 1]]\n",
            "[[3], [4, 1], [5, 2]]\n",
            "[[3, 2], [4, 1], [5]]\n",
            "[[3, 2, 1], [4], [5]]\n",
            "[[3, 2, 1], [], [5, 4]]\n",
            "[[3, 2], [], [5, 4, 1]]\n",
            "[[3], [2], [5, 4, 1]]\n",
            "[[3], [2, 1], [5, 4]]\n",
            "[[], [2, 1], [5, 4, 3]]\n",
            "[[1], [2], [5, 4, 3]]\n",
            "[[1], [], [5, 4, 3, 2]]\n",
            "[[], [], [5, 4, 3, 2, 1]]\n"
          ],
          "name": "stdout"
        }
      ]
    },
    {
      "cell_type": "markdown",
      "metadata": {
        "id": "NXO_4l2swj9R",
        "colab_type": "text"
      },
      "source": [
        "#### Resolución del problema del cambio de monedas por la técnica voraz"
      ]
    },
    {
      "cell_type": "markdown",
      "metadata": {
        "id": "Hr98XiqQxHXi",
        "colab_type": "text"
      },
      "source": [
        "Estas líneas permiten cargar el método de la burbuja implementado anteriormente para utilizarlo en el algoritmo voraz que voy a implementar a continuación."
      ]
    },
    {
      "cell_type": "code",
      "metadata": {
        "id": "bksc1vpgwz0X",
        "colab_type": "code",
        "colab": {
          "base_uri": "https://localhost:8080/",
          "height": 72
        },
        "outputId": "248d4672-bf03-4115-e5db-7f1c9485beff"
      },
      "source": [
        "%cd /content/drive/My\\ Drive/Colab\\ Notebooks\n",
        "%run MetodoDeLaBurbuja.ipynb"
      ],
      "execution_count": 8,
      "outputs": [
        {
          "output_type": "stream",
          "text": [
            "/content/drive/My Drive/Colab Notebooks\n",
            "Lista ordenada de menor a mayor: [0, 1, 2, 3, 4, 5, 6, 7, 8, 9]\n",
            "Lista ordenada de mayor a menor: [9, 8, 7, 6, 5, 4, 3, 2, 1, 0]\n"
          ],
          "name": "stdout"
        }
      ]
    },
    {
      "cell_type": "markdown",
      "metadata": {
        "id": "ER7h-_CvxyOj",
        "colab_type": "text"
      },
      "source": [
        "Implementación"
      ]
    },
    {
      "cell_type": "code",
      "metadata": {
        "id": "Qn862RCHxuNm",
        "colab_type": "code",
        "colab": {}
      },
      "source": [
        "def devolucion_cambio(tipos_moneda:list, valor_a_devolver:int)-> list:\n",
        "  solucion = []\n",
        "  ## La lista de monedas debe estar ordenada de mayor a menor\n",
        "  tm = ordenar_por_burbuja(tipos_moneda, lt)\n",
        "  index = 0 \n",
        "\n",
        "  while index < len(tm)  and valor_a_devolver > 0:\n",
        "    k = valor_a_devolver // tm[index]\n",
        "    # Esta instrucción comprueba si el candidato actual (la moneda más grade)\n",
        "    # se puede incluir a la solución. (k representa la cantidad de monedas de\n",
        "    # ese importe)   \n",
        "    if k  and valor_a_devolver - (k*tm[index]) >= 0:\n",
        "      valor_a_devolver -= (k*tm[index])\n",
        "      solucion.append([tm[index], k])\n",
        "    else:\n",
        "      index += 1    \n",
        "\n",
        "  # En un esquema de búsqueda clásico al salir del bucle con doble condición\n",
        "  # se pregunta para actuar en  función de la condición insatisfecha.\n",
        "  # El primer caso es el de solución no encontrada.\n",
        "  if index >= len(tm):\n",
        "    print('No hay solución')\n",
        "    return None\n",
        "  else:\n",
        "    return solucion"
      ],
      "execution_count": 0,
      "outputs": []
    },
    {
      "cell_type": "code",
      "metadata": {
        "id": "SbyTUlBfDVbb",
        "colab_type": "code",
        "outputId": "0fd835dc-3fb8-43db-a766-67e7b24d22fa",
        "colab": {
          "base_uri": "https://localhost:8080/",
          "height": 35
        }
      },
      "source": [
        "# Según el enunciado del problema se asume un número infinito de monedas.\n",
        "# Sería sencillo cambiar el algoritmo para que acepte una lista de listas de\n",
        "# monedas con sus cantidades.\n",
        "tipos_moneda = [1, 2, 5, 10, 20, 50, 100, 200, 500]\n",
        "\n",
        "devolucion_cambio(tipos_moneda, 49)"
      ],
      "execution_count": 10,
      "outputs": [
        {
          "output_type": "execute_result",
          "data": {
            "text/plain": [
              "[[20, 2], [5, 1], [2, 2]]"
            ]
          },
          "metadata": {
            "tags": []
          },
          "execution_count": 10
        }
      ]
    },
    {
      "cell_type": "code",
      "metadata": {
        "id": "JTdy0CsgKuyo",
        "colab_type": "code",
        "outputId": "c85170d9-bf36-43e0-9ef7-b445b67fb128",
        "colab": {
          "base_uri": "https://localhost:8080/",
          "height": 35
        }
      },
      "source": [
        "tipos_moneda = [5, 100, 200, 500]\n",
        "\n",
        "# Caso sin solución\n",
        "devolucion_cambio(tipos_moneda, 937)"
      ],
      "execution_count": 11,
      "outputs": [
        {
          "output_type": "stream",
          "text": [
            "No hay solución\n"
          ],
          "name": "stdout"
        }
      ]
    },
    {
      "cell_type": "markdown",
      "metadata": {
        "id": "TPnf_CNNznjR",
        "colab_type": "text"
      },
      "source": [
        "#### Resolución del problema de las cuatro reinas por la técnica del backtracking"
      ]
    },
    {
      "cell_type": "markdown",
      "metadata": {
        "id": "vcjPgRlqz4qb",
        "colab_type": "text"
      },
      "source": [
        "Se implementa con un closure para simplificar la interfaz de la función de cara al llamante y utilizar las variables de maniobra de forma interna."
      ]
    },
    {
      "cell_type": "code",
      "metadata": {
        "id": "eBHnUwVHztAh",
        "colab_type": "code",
        "colab": {
          "base_uri": "https://localhost:8080/",
          "height": 35
        },
        "outputId": "61e6726a-87a3-4e21-a5e4-bb9cade4a577"
      },
      "source": [
        "def queens (n:int) -> list:\n",
        "    board = []\n",
        "    def canBeSet(row:int, board: list, elem:int) -> bool:\n",
        "        if row == 0:\n",
        "            return True\n",
        "\n",
        "        for i in range(row):\n",
        "            if board[i] == elem:\n",
        "                return False\n",
        "            elif abs(board[i] - elem) == abs(i - row):\n",
        "                return False\n",
        "\n",
        "        return True\n",
        "\n",
        "    def recursive_queen(row:int, board:list, n:int) -> bool:\n",
        "        if row < n:            \n",
        "            for j in range(n):\n",
        "                if canBeSet(row,board,j):\n",
        "                    board.append(j)\n",
        "                    if recursive_queen(row+1, board, n):\n",
        "                        return True\n",
        "                    board.pop()\n",
        "            return False\n",
        "        return True\n",
        "    \n",
        "    if recursive_queen(0, board, n):\n",
        "        return board\n",
        "    else:\n",
        "        return []\n",
        "\n",
        "print(queens(4))\n"
      ],
      "execution_count": 12,
      "outputs": [
        {
          "output_type": "stream",
          "text": [
            "[1, 3, 0, 2]\n"
          ],
          "name": "stdout"
        }
      ]
    }
  ]
}