{
  "nbformat": 4,
  "nbformat_minor": 0,
  "metadata": {
    "colab": {
      "name": "Victor Vazquez - Seminario - Algoritmos.ipynb",
      "provenance": [],
      "collapsed_sections": [],
      "toc_visible": true,
      "include_colab_link": true
    },
    "kernelspec": {
      "name": "python3",
      "display_name": "Python 3"
    }
  },
  "cells": [
    {
      "cell_type": "markdown",
      "metadata": {
        "id": "view-in-github",
        "colab_type": "text"
      },
      "source": [
        "<a href=\"https://colab.research.google.com/github/VictorVazquezRey/03MAIR--Algoritmos-de-Optimizacion--2020/blob/master/Victor_Vazquez_Seminario_Algoritmos.ipynb\" target=\"_parent\"><img src=\"https://colab.research.google.com/assets/colab-badge.svg\" alt=\"Open In Colab\"/></a>"
      ]
    },
    {
      "cell_type": "markdown",
      "metadata": {
        "id": "hVbXYX-RfPWh",
        "colab_type": "text"
      },
      "source": [
        "# Algoritmos de optimización - Seminario<br>\n",
        "Nombre y Apellidos:  Víctor Vázquez Rey\n",
        "\n",
        "Colab:[https://colab.research.google.com/drive/1dks6zPHfPFqSEay7kkD2qmEyXDf36ydm?usp=sharing](https://colab.research.google.com/drive/1dks6zPHfPFqSEay7kkD2qmEyXDf36ydm?usp=sharing) \n",
        "\n",
        "Github: [https://github.com/VictorVazquezRey/03MAIR--Algoritmos-de-Optimizacion--2020](https://github.com/VictorVazquezRey/03MAIR--Algoritmos-de-Optimizacion--2020)\n",
        "\n",
        "**Problema:**\n",
        "\n",
        ">**3. Combinar cifras y operaciones**\n",
        "\n",
        "**Descripción del problema:**\n",
        "\n",
        "- El problema consiste en analizar el siguiente problema y diseñar un algoritmo que lo resuelva.\n",
        "- Disponemos de las 9 cifras del 1 al 9 (excluimos el cero) y de los 4 signos básicos de las operaciones fundamentales: suma(+), resta(-), multiplicación(*) y división(/)\n",
        "- Debemos combinarlos alternativamente sin repetir ninguno de ellos para obtener una cantidad dada. Un ejemplo sería para obtener el 4:\n",
        "\n",
        "  - **4+2-6/3*1 = 4**\n",
        "\n",
        "                                        "
      ]
    },
    {
      "cell_type": "markdown",
      "metadata": {
        "id": "3_-exlrTgLd-",
        "colab_type": "text"
      },
      "source": [
        "**¿Cuantas posibilidades hay sin tener en cuenta las restricciones?**"
      ]
    },
    {
      "cell_type": "markdown",
      "metadata": {
        "id": "WfCUqJyKhPcw",
        "colab_type": "text"
      },
      "source": [
        "Respuesta"
      ]
    },
    {
      "cell_type": "markdown",
      "metadata": {
        "id": "r4uMB14zpL8r",
        "colab_type": "text"
      },
      "source": [
        "El número de posibilidades se calcula a partir de la observación de que las posibles colocaciones de números son una variación de los 9 dígitos tomados de 5 en cinco y la de operaciones la de 4 elementos tomados de 4 en cuatro.\n",
        "\n",
        "Y puesto que el número de variaciones de n elementos tomados de k en k (con $n<k$) es:\n",
        "\n",
        "$$V_k^n=\\frac{n!}{(n-k)!}$$\n",
        "\n",
        "El número de posibilidades pedido es:\n",
        "\n",
        "$$Posibilidades=V_5^9\\cdot V_4^4=\\frac{9!}{5!}\\cdot\\frac{4!}{0!}=362.880$$"
      ]
    },
    {
      "cell_type": "markdown",
      "metadata": {
        "id": "dzynfVJahHoY",
        "colab_type": "text"
      },
      "source": [
        "**Modelo para el espacio de soluciones**\n",
        "\n",
        "(*) ¿Cual es la estructura de datos que mejor se adapta al problema? Argumentalo.(Es posible que hayas elegido una al principio y veas la necesidad de cambiar, arguentalo)\n"
      ]
    },
    {
      "cell_type": "markdown",
      "metadata": {
        "id": "38c-7-ejhJmA",
        "colab_type": "text"
      },
      "source": [
        "Una estructura de datos que podría modelar correctamente el estado de la solución en cualquier momento de la búsqueda es una tupla con tres elementos. Dos listas que representan los números y las operaciones respectivamente y una ristra con la expresión(inicialmente había empleado un entero que representa el valor calculado de las operaciones, pero puesto que en python puedo usar eval el uso del entero se había quedado inoperativo debido a que se hacía siempre una única llamada a eval).\n",
        "\n",
        "Así la tupla $([2,3], ['*'], '2*3')$ representa a el estado $2*3=6$\n",
        "\n"
      ]
    },
    {
      "cell_type": "markdown",
      "metadata": {
        "id": "7Z9U2W7bi-XS",
        "colab_type": "text"
      },
      "source": [
        "**Según el modelo para el espacio de soluciones**\n",
        "(*)¿Cual es la función objetivo?\n",
        "\n",
        "(*)¿Es un problema de maximización o minimización?"
      ]
    },
    {
      "cell_type": "markdown",
      "metadata": {
        "id": "pDA-rg3Gj5Lz",
        "colab_type": "text"
      },
      "source": [
        "Si definimos la función objetivo $f(x)$ como la distancia del valor objetivo n al valor calculado k entonces $f(x)=|n-k|$ y **el problema es de minimización** puesto que se pretende encontrar un cero de esta función objetivo.\n",
        "\n",
        "Para una tupla $x=([2,3], ['*'], '2*3')$ y un valor objetivo de 4, $f(x)=|6-4|=2$\n",
        "\n",
        "Si llamamos $l_n$ a la lista de números y $l_o$ a la de operaciones en este problema las restricciones son:\n",
        "\n",
        "- $len(l_n)=k$ con $0\\leq k<5$\n",
        "- $len(l_o)=\\begin{cases}\n",
        "0,  & \\text{si $k=0$} \\\\\n",
        "k-1, & \\text{si $k>0$}\n",
        "\\end{cases}$\n",
        "- $\\forall x\\in l_n, x\\in\\{1,2,3,4,5,6,7,8,9\\}$\n",
        "- $\\forall y\\in l_o, y\\in\\{+,-,*,/\\}$"
      ]
    },
    {
      "cell_type": "markdown",
      "metadata": {
        "id": "rlnTYgY1j6I2",
        "colab_type": "text"
      },
      "source": [
        "**Diseña un algoritmo para resolver el problema por fuerza bruta**"
      ]
    },
    {
      "cell_type": "markdown",
      "metadata": {
        "id": "g8dcQHBH-N6g",
        "colab_type": "text"
      },
      "source": [
        "Voy a utilizar la clase Node como auxiliar. Esta clase va a contener la información relativa a un nodo, que incluye dos listas (de números y operaciones) y la expresión como una rista.\n",
        "\n",
        "E incluye diferentes métodos. Los métodos que van a utilizar los clientes de esta clase (puesto que el resto son de operación interna) son el constructor, los métodos constructivos add_number y add_operation y eval_node que devuelve el valor de la expresión que representa el nodo. "
      ]
    },
    {
      "cell_type": "code",
      "metadata": {
        "id": "CJb5sQ0qkENy",
        "colab_type": "code",
        "colab": {}
      },
      "source": [
        "class Node:\n",
        "    def __init__(self, numbers:list=[], operations:list=[]):\n",
        "        self.numbers = numbers\n",
        "        self.operations = operations\n",
        "        self.expression = self.generate_expression()\n",
        "\n",
        "    def eval_node(self):\n",
        "        if not self.numbers:\n",
        "            return None\n",
        "        return eval(self.expression)\n",
        "\n",
        "    @staticmethod\n",
        "    def is_empty(l: list):\n",
        "        return not l\n",
        "\n",
        "    def generate_expression(self):\n",
        "        if Node.is_empty(self.numbers):\n",
        "            return ''\n",
        "        elif Node.is_empty(self.operations):\n",
        "            return str(self.numbers[0])\n",
        "\n",
        "        result = str(self.numbers[0])\n",
        "        for n,o in zip(self.numbers[1:],self.operations):\n",
        "            result += \"{}{}\".format(o,n)\n",
        "\n",
        "        return result\n",
        "\n",
        "    def add_number(self, number:int):\n",
        "        self.numbers.append(number)\n",
        "        self.expression += str(number)\n",
        "\n",
        "    def add_operation(self,operation:str):\n",
        "        self.operations.append(operation)\n",
        "        self.expression += operation\n",
        "        \n",
        "    def substact_number(self):\n",
        "        self.numbers.pop()\n",
        "        self.expression = self.expression[:-1]\n",
        "\n",
        "    def substact_operation(self):\n",
        "        self.operations.pop()\n",
        "        self.expression = self.expression[:-1]"
      ],
      "execution_count": 2,
      "outputs": []
    },
    {
      "cell_type": "markdown",
      "metadata": {
        "id": "zX3IKi5z4-fC",
        "colab_type": "text"
      },
      "source": [
        "Esta es la resolución del algoritmo por fuerza bruta que hace uso de la función permutations del módulo itertools que devuelve todas las permutaciones de una lista."
      ]
    },
    {
      "cell_type": "code",
      "metadata": {
        "id": "MURS9sfz48Zv",
        "colab_type": "code",
        "colab": {
          "base_uri": "https://localhost:8080/",
          "height": 35
        },
        "outputId": "d4ba9579-df43-42c3-9f23-bce6ae048063"
      },
      "source": [
        "from itertools import permutations\n",
        "\n",
        "def solve_expresion(value:int)->str:\n",
        "    OPERATIONS = ['+', '-', '*', '/']\n",
        "    for n in permutations([i+1 for i in range(9)], len(OPERATIONS) + 1):\n",
        "        for e in permutations(OPERATIONS):\n",
        "            node = Node(n,e)\n",
        "            if node.eval_node()==value:\n",
        "                return node.expression\n",
        "        \n",
        "        \n",
        "print(solve_expresion(72))"
      ],
      "execution_count": 3,
      "outputs": [
        {
          "output_type": "stream",
          "text": [
            "2-6/3+8*9\n"
          ],
          "name": "stdout"
        }
      ]
    },
    {
      "cell_type": "markdown",
      "metadata": {
        "id": "tgrnsC2nkFa8",
        "colab_type": "text"
      },
      "source": [
        "**Calcula la complejidad del algoritmo por fuerza bruta**"
      ]
    },
    {
      "cell_type": "markdown",
      "metadata": {
        "id": "dMvwsBV25OLa",
        "colab_type": "text"
      },
      "source": [
        "Para calcular la complejidad del algoritmo que resuelve este problema vamos a generalizarlo (puesto que como este tiene longitudes fijas el número de operaciones no es dependiente de un tamaño y por tanto nos daría una complejidad unitaria con una constante multiplicativa exacta) esto quiere decir que no depende del valor que se quiera calcular, el número de operaciones es el mismo por serlo el número de dígitos y de operaciones.\n",
        "\n",
        "Llamemos $n$ al número de operaciones que vamos a usar en este problema. Siendo así el número de dígitos tiene que ser exactamente $n+1$, y puesto que la operación crítica es la evaluación del bucle más interno se ejecuta $\\frac{9!}{(9-n)!}\\cdot n!$ veces. Con las restricciónes de no repetición de dígitos y operaciones podemos decir que el coste más alto del algoritmo que resuelve el problema por fuerza bruta está cuando el número de operaciones está en torno a la mitad de los posibles dígitos, y en ese caso tiene un coste que $\\in O((n!)^2)$"
      ]
    },
    {
      "cell_type": "markdown",
      "metadata": {
        "id": "N6bVx7-r57dM",
        "colab_type": "text"
      },
      "source": [
        "**¿Qué valor máximo y mínimo se pueden obtener según las condiciones del problema?**"
      ]
    },
    {
      "cell_type": "markdown",
      "metadata": {
        "id": "-DNtRSIipNWs",
        "colab_type": "text"
      },
      "source": [
        "El valor máximo que puede alcanzar con estas condiciones y teniendo en cuenta la precedencia de operaciones es aquel que maximice la multiplicación y de los que quedan que obtenga la suma máxima.\n",
        "\n",
        "Así, la multiplicación no puede ser mayor de $72$ que es la multiplicación de $9\\cdot8$ adicionalmente es obligatorio usar el $1$ para dividir para maximizar el valor y por último de los números que nos quedan hallar la resta mínima $7-2$. \n",
        "\n",
        "Con todo esto el valor máximo es $9\\cdot8+7-2 = 77$ que se puede obtener de cualquier permutación de esta misma operación usando el $/1$ en cualquiera de los operandos anteriores por ejemplo: $9/1\\cdot8+7-2 = 77$ o $9\\cdot8/1+7-2 = 77$.\n",
        "\n",
        "El valor mínimo el que máximiza la resta y minimiza el resto de operaciones y por tanto el restando debe ser \"$-9\\cdot8$\", y por tanto para el resto de la expresión \"$x+y/z$\" debe ser mínimo.\n",
        "\n",
        "El menor valor para \"y/z\" es $2$ puesto que $y\\neq z$ y la solución debe ser entera y para que $x$ sea mínimo debe ser $x=1$.\n",
        "\n",
        "Con todo esto el valor mínimo es $-72+1+2=-69$ y una posible solución es: $1+4/2-9\\cdot8 = -69$ otra $1+6/3-9\\cdot8 = -69$"
      ]
    },
    {
      "cell_type": "markdown",
      "metadata": {
        "id": "_SXc_TML8KmS",
        "colab_type": "text"
      },
      "source": [
        "**¿Es posible encontrar todos los valores enteros posibles entre dicho mínimo y máximo?**"
      ]
    },
    {
      "cell_type": "markdown",
      "metadata": {
        "id": "CaEvQqJ88Mrz",
        "colab_type": "text"
      },
      "source": [
        "Este algoritmo prueba que se puede resolver el problema para todos los valores entre el máximo y el mínimo."
      ]
    },
    {
      "cell_type": "code",
      "metadata": {
        "id": "yQvSdvlu0LTF",
        "colab_type": "code",
        "colab": {
          "base_uri": "https://localhost:8080/",
          "height": 35
        },
        "outputId": "c86246de-a3f6-4eea-f82c-db6bc1d98e09"
      },
      "source": [
        "inf_limit = -69\n",
        "sup_limit = 77\n",
        "\n",
        "not_reachable = []\n",
        "for v in range(inf_limit,sup_limit+1):\n",
        "    if not solve_expresion(v):\n",
        "        not_reachable.append(v)\n",
        "print(not_reachable)"
      ],
      "execution_count": 4,
      "outputs": [
        {
          "output_type": "stream",
          "text": [
            "[]\n"
          ],
          "name": "stdout"
        }
      ]
    },
    {
      "cell_type": "markdown",
      "metadata": {
        "id": "txbrmLmskReM",
        "colab_type": "text"
      },
      "source": [
        "(*)Diseña un algoritmo que mejore la complejidad del algortimo por fuerza bruta. Argumenta porque crees que mejora el algoritmo por fuerza bruta"
      ]
    },
    {
      "cell_type": "markdown",
      "metadata": {
        "id": "hLrVwt5QkZPD",
        "colab_type": "text"
      },
      "source": [
        "Respuesta"
      ]
    },
    {
      "cell_type": "code",
      "metadata": {
        "id": "m1eyM21Vkabg",
        "colab_type": "code",
        "colab": {
          "base_uri": "https://localhost:8080/",
          "height": 35
        },
        "outputId": "12c05af4-e024-48eb-d109-53094316eeaf"
      },
      "source": [
        "def solve_backtracking_expresion(value:int)->str:\n",
        "    # Explorando las posibles soluciones se observa que el producto tiene más relevancia\n",
        "    # al igual que los números más altos en las soluciones y por eso se exploran primero.\n",
        "    # (el orden de exploración es inverso al de la lista por el uso de pop y append).\n",
        "    OPERATIONS = ['-','/','*','+']\n",
        "    NUMBERS = [i for i in range(9,0,-1)]\n",
        "    inf_limit = -69\n",
        "    sup_limit = 77\n",
        "\n",
        "    def solve(value:int, node:Node):\n",
        "        def solve_for_number(value:int, node:Node):\n",
        "            for n in set(NUMBERS)-set(node.numbers):\n",
        "                node.add_number(n)\n",
        "                if solve(value, node):\n",
        "                    return True\n",
        "                node.substact_number()\n",
        "            return False\n",
        "\n",
        "        if len(node.operations) == 4:\n",
        "            if node.eval_node()==value:\n",
        "                return True\n",
        "            else:\n",
        "                return False\n",
        "        elif not node.numbers:\n",
        "            return solve_for_number(value,node)\n",
        "        else:\n",
        "            for o in set(OPERATIONS)-set(node.operations):\n",
        "                node.add_operation(o)\n",
        "                if solve_for_number(value, node):\n",
        "                    return True\n",
        "                node.substact_operation()\n",
        "        return False\n",
        "\n",
        "    if value < inf_limit or value > sup_limit:\n",
        "        raise ValueError('Valor imposible de calcular')\n",
        "\n",
        "    node = Node()\n",
        "    if solve(value, node):\n",
        "        return node.expression\n",
        "    else:\n",
        "        return \"\"\n",
        "    \n",
        "print(solve_backtracking_expresion(-60))\n"
      ],
      "execution_count": 5,
      "outputs": [
        {
          "output_type": "stream",
          "text": [
            "1-7*9+4/2\n"
          ],
          "name": "stdout"
        }
      ]
    },
    {
      "cell_type": "markdown",
      "metadata": {
        "id": "eGDB4K6uk1iN",
        "colab_type": "text"
      },
      "source": [
        "(*)Calcula la complejidad del algoritmo "
      ]
    },
    {
      "cell_type": "markdown",
      "metadata": {
        "id": "NhpTh_BPk1ms",
        "colab_type": "text"
      },
      "source": [
        "En el peor caso la resolución por backtracking tiene una complejidad $\\in O(n!)$ igual que la resolución por fuerza bruta, pero en el caso promedio será de $\\in O(2^n)$"
      ]
    },
    {
      "cell_type": "markdown",
      "metadata": {
        "id": "3M6QjTsSkmYe",
        "colab_type": "text"
      },
      "source": [
        "Según el problema (y tenga sentido), diseña un juego de datos de entrada aleatorios"
      ]
    },
    {
      "cell_type": "markdown",
      "metadata": {
        "id": "Jc3_OlyNkvjZ",
        "colab_type": "text"
      },
      "source": [
        "En este algoritmo no tiene sentido hablar de unos datos de entrada aleatorios."
      ]
    },
    {
      "cell_type": "markdown",
      "metadata": {
        "id": "zy5ZROmjlGo1",
        "colab_type": "text"
      },
      "source": [
        "Aplica el algoritmo al juego de datos generado"
      ]
    },
    {
      "cell_type": "markdown",
      "metadata": {
        "id": "_Cmj-PVylMsa",
        "colab_type": "text"
      },
      "source": [
        "No tiene sentido."
      ]
    },
    {
      "cell_type": "markdown",
      "metadata": {
        "colab_type": "text",
        "id": "eTFWUJQrtGcv"
      },
      "source": [
        "Enumera las referencias que has utilizado(si ha sido necesario) para llevar a cabo el trabajo"
      ]
    },
    {
      "cell_type": "markdown",
      "metadata": {
        "id": "YKQ_mRBttWsP",
        "colab_type": "text"
      },
      "source": [
        "No he usado más referencias que los apuntes de la asignatura."
      ]
    },
    {
      "cell_type": "markdown",
      "metadata": {
        "id": "kAkDPUyRtYyH",
        "colab_type": "text"
      },
      "source": [
        "Describe brevemente las lineas de como crees que es posible avanzar en el estudio del problema. Ten en cuenta incluso posibles variaciones del problema y/o variaciones al alza del tamaño"
      ]
    },
    {
      "cell_type": "markdown",
      "metadata": {
        "id": "IE0uZmo-tZu-",
        "colab_type": "text"
      },
      "source": [
        "Es posible aplicar heurísticas que poden en caso de que el número no sea entero con la terna $x\\cdot y/z$. En estos casos z no puede ser un primo mayor que 1.\n",
        "\n",
        "Si se pueden repetir números y operaciones el problema crece a $\\in O(9^n\\cdot 4^{n-1})$ siendo n el número de operandos."
      ]
    }
  ]
}