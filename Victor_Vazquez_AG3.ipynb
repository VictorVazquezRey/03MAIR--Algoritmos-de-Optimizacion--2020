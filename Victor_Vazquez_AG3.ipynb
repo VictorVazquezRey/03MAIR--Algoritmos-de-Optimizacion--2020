{
  "nbformat": 4,
  "nbformat_minor": 0,
  "metadata": {
    "colab": {
      "name": "Victor Vazquez-AG3.ipynb",
      "provenance": [],
      "collapsed_sections": [],
      "toc_visible": true,
      "authorship_tag": "ABX9TyPdJRLajzG7bVMi23WkvuMV",
      "include_colab_link": true
    },
    "kernelspec": {
      "name": "python3",
      "display_name": "Python 3"
    }
  },
  "cells": [
    {
      "cell_type": "markdown",
      "metadata": {
        "id": "view-in-github",
        "colab_type": "text"
      },
      "source": [
        "<a href=\"https://colab.research.google.com/github/VictorVazquezRey/03MAIR--Algoritmos-de-Optimizacion--2020/blob/master/Victor_Vazquez_AG3.ipynb\" target=\"_parent\"><img src=\"https://colab.research.google.com/assets/colab-badge.svg\" alt=\"Open In Colab\"/></a>"
      ]
    },
    {
      "cell_type": "markdown",
      "metadata": {
        "id": "6xl5uTpsS0kZ",
        "colab_type": "text"
      },
      "source": [
        "### **Actividad guiada 3 de Algoritmos de Optimización**\n",
        "*Victor Vazquez Rey*\n",
        "\n",
        "[https://colab.research.google.com/drive/13Uv4Q6qaV0lO089NDyq5UbBjd4WwTtCZ?usp=sharing](https://colab.research.google.com/drive/13Uv4Q6qaV0lO089NDyq5UbBjd4WwTtCZ?usp=sharing)\n",
        "\n",
        "[https://github.com/VictorVazquezRey/03MAIR--Algoritmos-de-Optimizacion--2020](https://github.com/VictorVazquezRey/03MAIR--Algoritmos-de-Optimizacion--2020)"
      ]
    },
    {
      "cell_type": "markdown",
      "metadata": {
        "id": "Hc3GvzIEtsC_",
        "colab_type": "text"
      },
      "source": [
        "#### **Preparación**\n",
        "Vamos a instalar los paquetes para descargar el archivo tsp que se hace uso en esta práctica y que representa el problema del vendedor viajero en 42 ciudades de Suiza."
      ]
    },
    {
      "cell_type": "code",
      "metadata": {
        "id": "LYH7sL1TSsSY",
        "colab_type": "code",
        "colab": {
          "base_uri": "https://localhost:8080/",
          "height": 654
        },
        "outputId": "f4fb80fd-02a9-45d1-84ad-4b5b48bd3f05"
      },
      "source": [
        "!pip install request\n",
        "!pip install tsplib95"
      ],
      "execution_count": null,
      "outputs": [
        {
          "output_type": "stream",
          "text": [
            "Collecting request\n",
            "  Downloading https://files.pythonhosted.org/packages/4b/d0/d0a74562892593e67333deb59935739e9d6990e8eb5980643f3910f3b432/request-2020.7.1.tar.gz\n",
            "Collecting get\n",
            "  Downloading https://files.pythonhosted.org/packages/a1/8a/2cf10aed04b8c98cbdebae3bac643f674896f53a92bb296987c1e72d5607/get-2020.7.1.tar.gz\n",
            "Collecting post\n",
            "  Downloading https://files.pythonhosted.org/packages/88/44/b3ed3b07e94b0b03915fdd95bbe1f5a1b909a35b32af8113c7b1d363fba4/post-2020.7.1.tar.gz\n",
            "Collecting query-string\n",
            "  Downloading https://files.pythonhosted.org/packages/1f/16/453de6d1cb79383bdb5d0b580ac1eaba73cccf2dcc1add1215e7bd9d0904/query-string-2020.7.1.tar.gz\n",
            "Building wheels for collected packages: request, get, post, query-string\n",
            "  Building wheel for request (setup.py) ... \u001b[?25l\u001b[?25hdone\n",
            "  Created wheel for request: filename=request-0.0.0-cp36-none-any.whl size=1326 sha256=8a3a149b64e431bbb162dd8eef7c1eb8b0520e95ee042ef7bdda9b9a6755bb94\n",
            "  Stored in directory: /root/.cache/pip/wheels/d0/dd/4d/b2d488171e9e1129106e8134af9f2655f62dd17edd9d9a6b5f\n",
            "  Building wheel for get (setup.py) ... \u001b[?25l\u001b[?25hdone\n",
            "  Created wheel for get: filename=get-0.0.0-cp36-none-any.whl size=1324 sha256=b97e486df9e8c820c4a393044601fefb3c313d857828179443bf9adfd38f272b\n",
            "  Stored in directory: /root/.cache/pip/wheels/0e/d1/1d/52b42199057663cc6cd7f012086fee189e1c0bd851fd7b6fd3\n",
            "  Building wheel for post (setup.py) ... \u001b[?25l\u001b[?25hdone\n",
            "  Created wheel for post: filename=post-0.0.0-cp36-none-any.whl size=1261 sha256=380e579ab4047ca59c48ee09afbd3aeb3499fac1757e81cc719c0e2dab2f04b2\n",
            "  Stored in directory: /root/.cache/pip/wheels/44/74/40/aac3b48aa3d964c28a29cc998adfaf69ed90aad30ee738ba9f\n",
            "  Building wheel for query-string (setup.py) ... \u001b[?25l\u001b[?25hdone\n",
            "  Created wheel for query-string: filename=query_string-0.0.0-cp36-none-any.whl size=1510 sha256=053a0870fcd16e3c81f4e3b52096391cbde72721135ef6b354bc56d56b4a9ac7\n",
            "  Stored in directory: /root/.cache/pip/wheels/b5/ad/d6/60f8dc1772dd7abe21ca04a65b60fbbdecafb56f55b46cc760\n",
            "Successfully built request get post query-string\n",
            "Installing collected packages: query-string, get, post, request\n",
            "Successfully installed get-0.0.0 post-0.0.0 query-string-0.0.0 request-0.0.0\n",
            "Collecting tsplib95\n",
            "  Downloading https://files.pythonhosted.org/packages/a0/2b/b1932d3674758ec5f49afa72d4519334a5ac2aac4d96cfd416eb872a1959/tsplib95-0.7.1-py2.py3-none-any.whl\n",
            "Requirement already satisfied: tabulate~=0.8.7 in /usr/local/lib/python3.6/dist-packages (from tsplib95) (0.8.7)\n",
            "Requirement already satisfied: Click>=6.0 in /usr/local/lib/python3.6/dist-packages (from tsplib95) (7.1.2)\n",
            "Collecting Deprecated~=1.2.9\n",
            "  Downloading https://files.pythonhosted.org/packages/76/a1/05d7f62f956d77b23a640efc650f80ce24483aa2f85a09c03fb64f49e879/Deprecated-1.2.10-py2.py3-none-any.whl\n",
            "Requirement already satisfied: networkx~=2.1 in /usr/local/lib/python3.6/dist-packages (from tsplib95) (2.4)\n",
            "Requirement already satisfied: wrapt<2,>=1.10 in /usr/local/lib/python3.6/dist-packages (from Deprecated~=1.2.9->tsplib95) (1.12.1)\n",
            "Requirement already satisfied: decorator>=4.3.0 in /usr/local/lib/python3.6/dist-packages (from networkx~=2.1->tsplib95) (4.4.2)\n",
            "Installing collected packages: Deprecated, tsplib95\n",
            "Successfully installed Deprecated-1.2.10 tsplib95-0.7.1\n"
          ],
          "name": "stdout"
        }
      ]
    },
    {
      "cell_type": "markdown",
      "metadata": {
        "id": "aEyGRnaCuJC0",
        "colab_type": "text"
      },
      "source": [
        "Hemos implementado una clase auxiliar cuya responsabilidad es mantener las funciones comunes a todas las estrategias de resolución del problema y de contener los datos descargados.\n",
        "\n",
        "A esa clase la hemos denominado TSP por Traveling Salesman Problem e incluye funcionalidades como el cálculo de una solución aleatoria, o el coste de una solución o el de una arista.\n",
        "\n",
        "La funcionalidad es la que se espera según el nombre de las funciones, aunque destacaría el uso de shuffle que ya baraja aleatoriamente una lista dada y que nos viene perfecto al crear una nueva solución (el slice se hace a partir de uno porque en la resolución de nuestro problema las soluciones siempre empiezan y acaban en 0.\n",
        "\n",
        "Se usa el esquema map/reduce para el cáculo del coste y el segundo sumando es el coste de volver al inicio."
      ]
    },
    {
      "cell_type": "code",
      "metadata": {
        "id": "mybHbe-Mul6L",
        "colab_type": "code",
        "colab": {}
      },
      "source": [
        "from requests.sessions import Session\n",
        "import tsplib95\n",
        "import numpy as np\n",
        "from functools import reduce\n",
        "from operator import add\n",
        "from random import sample, random, choice\n",
        "\n",
        "class TSP:\n",
        "    def __init__(self, url: str):\n",
        "        with Session() as s:\n",
        "            response = s.get(url)\n",
        "            content = response.content.decode('utf-8')\n",
        "\n",
        "        self.problem = tsplib95.parse(content)\n",
        "        self.nodes = list(self.problem.get_nodes())\n",
        "        self.edges = list(self.problem.get_edges())\n",
        "        self.dimension = len(self.nodes)\n",
        "\n",
        "    def create_solution(self) -> list:\n",
        "        solution = np.array(self.nodes)\n",
        "        np.random.shuffle(solution[1:])\n",
        "        return solution\n",
        "\n",
        "    def weight(self, a: int, b: int) -> int:\n",
        "        return self.problem.get_weight(a, b)\n",
        "\n",
        "    def distance(self, solution: list) -> int:\n",
        "        return reduce(add, map(self.weight, solution[:-1], solution[1:])) + \\\n",
        "               self.weight(solution[self.dimension - 1], solution[0])\n",
        "\n",
        "    def swap(self, solution: 'nparray', pos1: int, pos2: int):\n",
        "        solution[pos1], solution[pos2] = solution[pos2], solution[pos1]\n",
        "\n",
        "    def find_neighbor(self, solution: 'nparray'):\n",
        "        i, j = sample(range(1, self.dimension), 2)\n",
        "        neighbor = np.copy(solution)\n",
        "        self.swap(neighbor, i, j)\n",
        "        distance_neighbor = self.distance(neighbor)\n",
        "\n",
        "        return neighbor, distance_neighbor"
      ],
      "execution_count": null,
      "outputs": []
    },
    {
      "cell_type": "markdown",
      "metadata": {
        "id": "fzacAW3eu1qb",
        "colab_type": "text"
      },
      "source": [
        "Con estas líneas de código mantemos un objeto que el resto de estrategias van a poder usar."
      ]
    },
    {
      "cell_type": "code",
      "metadata": {
        "id": "90gN-z1bu8wz",
        "colab_type": "code",
        "colab": {}
      },
      "source": [
        "URL = 'http://elib.zib.de/pub/mp-testdata/tsp/tsplib/tsp/swiss42.tsp'\n",
        "tsp = TSP(URL)"
      ],
      "execution_count": null,
      "outputs": []
    },
    {
      "cell_type": "markdown",
      "metadata": {
        "id": "8dx3tcZBwnqh",
        "colab_type": "text"
      },
      "source": [
        "#### **Algoritmo de búsqueda aleatoria**\n",
        "Es la primera aproximación. Se hacen una serie configurable de iteraciones con generación automática de soluciones y se elige la mejor de las generadas.\n",
        "\n",
        "El código aplica un esquema de recorrido en función del parámetro de iteraciones para quedarse con el mínimo de las generadas."
      ]
    },
    {
      "cell_type": "code",
      "metadata": {
        "id": "WnBaL3GJxFYq",
        "colab_type": "code",
        "colab": {}
      },
      "source": [
        "class RandomSearch:\n",
        "    def __init__(self, tsp:TSP, iterations: int = 100):\n",
        "        self.tsp = tsp\n",
        "        self.iterations = iterations\n",
        "\n",
        "    def random_search(self, iterations: int = 100) -> int:\n",
        "\n",
        "        best_solution = self.tsp.create_solution()\n",
        "        distance_best_solution = self.tsp.distance(best_solution)\n",
        "\n",
        "        for it in range(iterations):\n",
        "            actual_solution = self.tsp.create_solution()\n",
        "            distance_actual_solution = self.tsp.distance(actual_solution)\n",
        "\n",
        "            if distance_actual_solution < distance_best_solution:\n",
        "                best_solution = actual_solution\n",
        "                distance_best_solution = distance_actual_solution\n",
        "\n",
        "        return best_solution, distance_best_solution"
      ],
      "execution_count": null,
      "outputs": []
    },
    {
      "cell_type": "markdown",
      "metadata": {
        "id": "Hjhl5b8Yvk4z",
        "colab_type": "text"
      },
      "source": [
        "##### **Solución para la búsqueda aleatoria**\n",
        "\n",
        "Definida la clase el cálculo de la solución se ejecuta con estas tres líneas. A partir de este punto haremos clases similares para el resto de los algoritmos."
      ]
    },
    {
      "cell_type": "code",
      "metadata": {
        "id": "eBAQIllSxZFh",
        "colab_type": "code",
        "colab": {
          "base_uri": "https://localhost:8080/",
          "height": 54
        },
        "outputId": "c184b36e-faa1-45c9-e46f-c2f556b742f0"
      },
      "source": [
        "rs = RandomSearch(tsp)\n",
        "\n",
        "solution, distance = rs.random_search()\n",
        "print(\"La mejor solución es {} con una distancia de {}\".format(solution, distance))"
      ],
      "execution_count": null,
      "outputs": [
        {
          "output_type": "stream",
          "text": [
            "La mejor solución es [ 0 30  6 12 23 19  2 33 28 37  1 36 29 32 22  9 40 39 18 25 10 31 14 16\n",
            "  5 38  3 26  4 34  8 11 13  7 15 27 20 21 24 35 41 17] con una distancia de 4270\n"
          ],
          "name": "stdout"
        }
      ]
    },
    {
      "cell_type": "markdown",
      "metadata": {
        "id": "lgTQOQVGvV-9",
        "colab_type": "text"
      },
      "source": [
        "#### **Algoritmo de búsqueda Local**\n",
        "Este algoritmo intensifica la solución buscando el mejor vecino para una solución inicial aleatoria hasta que ya no puede mejorar esa solución.\n",
        "\n",
        "Entre todas las posibilidades para generar una búsqueda local esta se denomina de best-improvement por elejir el mejor vecino posible considerando vecino a cualquier intercambio de dos posiciones en la solución original.\n",
        "\n",
        "Para ello se hace uso de la función swap del objeto tsp de la clase TSP que efectúa el intercambio.\n",
        "\n",
        "También resalto el uso de combinations que devuelve todas las posibles combinaciones tomadas de k en k (de dos en dos en este caso por el segundo parámetro)"
      ]
    },
    {
      "cell_type": "code",
      "metadata": {
        "id": "NKYUWvzMvEsq",
        "colab_type": "code",
        "colab": {}
      },
      "source": [
        "import numpy as np\n",
        "from itertools import combinations\n",
        "\n",
        "\n",
        "class LocalSearch:\n",
        "    def __init__(self, tsp:TSP):\n",
        "        self.tsp = tsp\n",
        "\n",
        "    # best-improvement\n",
        "    def find_best_neighbor(self, solution: 'nparray'):\n",
        "\n",
        "        best_solution = solution\n",
        "        distance_best_solution = self.tsp.distance(solution)\n",
        "\n",
        "        for i, j in combinations(np.array(self.tsp.nodes[1:]), 2):\n",
        "            neighbor = np.copy(solution)\n",
        "            self.tsp.swap(neighbor, i, j)\n",
        "            distance_neighbor = self.tsp.distance(neighbor)\n",
        "\n",
        "            if distance_neighbor < distance_best_solution:\n",
        "                distance_best_solution = distance_neighbor\n",
        "                best_solution = neighbor\n",
        "\n",
        "        return best_solution, distance_best_solution\n",
        "\n",
        "    def local_search(self):\n",
        "\n",
        "        solution = self.tsp.create_solution()\n",
        "        best_solution = solution\n",
        "        distance_best_solution = self.tsp.distance(best_solution)\n",
        "\n",
        "        while True:\n",
        "            neighbor, distance_neighbor = self.find_best_neighbor(solution)\n",
        "            if distance_neighbor < distance_best_solution:\n",
        "                best_solution = neighbor\n",
        "                distance_best_solution = distance_neighbor\n",
        "            else:\n",
        "                return best_solution, distance_best_solution\n",
        "\n",
        "            solution = neighbor"
      ],
      "execution_count": null,
      "outputs": []
    },
    {
      "cell_type": "markdown",
      "metadata": {
        "id": "4gJ_M50bw8ES",
        "colab_type": "text"
      },
      "source": [
        "##### **Solución para la búsqueda Local**"
      ]
    },
    {
      "cell_type": "code",
      "metadata": {
        "id": "4kBF0Vrtvrhq",
        "colab_type": "code",
        "colab": {
          "base_uri": "https://localhost:8080/",
          "height": 52
        },
        "outputId": "8d0eae1a-fc4a-4732-8ea6-f3c2efe66bf2"
      },
      "source": [
        "rs = LocalSearch(tsp)\n",
        "\n",
        "solution, distance = rs.local_search()\n",
        "print(\"La mejor solución es {} con una distancia de {}\".format(solution, distance))"
      ],
      "execution_count": null,
      "outputs": [
        {
          "output_type": "stream",
          "text": [
            "La mejor solución es [ 0  1  6  5  4 32 20 33 34 24 40 21 39 22 38 30 28 31 35 36 17 29  9 23\n",
            " 41 25 10  8  2 27  3  7 37 15 16 14 19 13 11 12 18 26] con una distancia de 1780\n"
          ],
          "name": "stdout"
        }
      ]
    },
    {
      "cell_type": "markdown",
      "metadata": {
        "id": "A9BgFb9fxiqg",
        "colab_type": "text"
      },
      "source": [
        "#### **Algoritmo de recocido simulado**\n",
        "Se basa en el proceso físico de templado.\n",
        "\n",
        "Va a permitir en determinados casos escoger soluciones peores y así permitir salir de la localidad en función de una abtracción de la temperatura y una función de probabilidad.\n",
        "\n",
        "Esta implementación admite diferentes formas de descenso de la temperatura y para ello se dispone de un enumerado que se puede pasar por parámetro tanto en la creación de la clase como en la llamada al método principal."
      ]
    },
    {
      "cell_type": "code",
      "metadata": {
        "id": "Ka_eM_Ei05Lf",
        "colab_type": "code",
        "colab": {}
      },
      "source": [
        "from enum import Enum\n",
        "from math import exp, log\n",
        "from random import random\n",
        "\n",
        "\n",
        "class Descend_Type(Enum):\n",
        "    EXPONENTIAL = 1\n",
        "    BOLTZMAN = 2\n",
        "    CAUCHY = 3\n",
        "\n",
        "\n",
        "class SimulatedAnnealing:\n",
        "    def __init__(self, tsp: TSP, temperature: float = 1000,\n",
        "                 descend_type=Descend_Type.EXPONENTIAL, alpha: float = .999):\n",
        "        self.descend_type = descend_type\n",
        "        self.tsp = tsp\n",
        "        self.temperature_0 = temperature\n",
        "        self.temperature_k = temperature\n",
        "        self.k = 1\n",
        "        self.alpha = alpha\n",
        "\n",
        "    def lower_the_temperature(self):\n",
        "        if self.descend_type == Descend_Type.EXPONENTIAL:\n",
        "            self.temperature_k *= self.alpha\n",
        "        elif self.descend_type == Descend_Type.BOLTZMAN:\n",
        "            self.temperature_k = self.temperature_0 / (1 + log(self.k))\n",
        "            self.k += 1\n",
        "        elif self.descend_type == Descend_Type.CAUCHY:\n",
        "            self.temperature_k = self.temperature_0 / (1 + self.k)\n",
        "            self.k += 1\n",
        "        else:\n",
        "            raise ValueError('Descend_Type unkown')\n",
        "\n",
        "    # If cost of neighbour is lower is always accepted, otherwise it depends\n",
        "    # on temperature and the difference of the costs.\n",
        "    # We introduce some ramdomness too. \n",
        "    def is_accepted(self, d_n: int, d_s: int):\n",
        "        if d_n >= d_s:\n",
        "            return random() <= exp(-1 * (d_n - d_s) / self.temperature_k)\n",
        "        return True\n",
        "\n",
        "    def simulated_annealing(self, temperature: float = 1000, delta: float = .0001,\n",
        "                            descend_type=Descend_Type.EXPONENTIAL, alpha: float = .999):\n",
        "        self.temperature_0 = temperature\n",
        "        self.temperature_k = temperature\n",
        "        self.descend_type = descend_type\n",
        "        self.alpha = alpha\n",
        "        solution = self.tsp.create_solution()\n",
        "        distance_solution = self.tsp.distance(solution)\n",
        "        best_solution = solution\n",
        "        distance_best_solution = distance_solution\n",
        "\n",
        "        while self.temperature_k > delta:\n",
        "            neighbor, distance_neighbor = self.tsp.find_neighbor(solution)\n",
        "            if distance_neighbor < distance_best_solution:\n",
        "                best_solution = neighbor\n",
        "                distance_best_solution = distance_neighbor\n",
        "\n",
        "            if self.is_accepted(distance_neighbor, distance_solution):\n",
        "                solution = neighbor\n",
        "                distance_solution = distance_neighbor\n",
        "\n",
        "            self.lower_the_temperature()\n",
        "\n",
        "        return best_solution, distance_best_solution"
      ],
      "execution_count": null,
      "outputs": []
    },
    {
      "cell_type": "markdown",
      "metadata": {
        "id": "aWGWcUmI1TPe",
        "colab_type": "text"
      },
      "source": [
        "##### **Solución para la búsqueda por recocido simulado**"
      ]
    },
    {
      "cell_type": "code",
      "metadata": {
        "id": "Fc3tYx5X1aC0",
        "colab_type": "code",
        "colab": {
          "base_uri": "https://localhost:8080/",
          "height": 52
        },
        "outputId": "9d4b58c7-44a8-4e9f-997e-36815020fe48"
      },
      "source": [
        "rs = SimulatedAnnealing(tsp)\n",
        "\n",
        "solution, distance = rs.simulated_annealing()\n",
        "print(\"La mejor solución es {} con una distancia de {}\".format(solution, distance))"
      ],
      "execution_count": null,
      "outputs": [
        {
          "output_type": "stream",
          "text": [
            "La mejor solución es [ 0 17 35 36 37  7  6 26 18 12 11 25 10  4  1 31 20 33 24 40 21 39  9  8\n",
            " 13 19 16 15 14  5 41 23 22 38 34 32  3 27  2 29 30 28] con una distancia de 1975\n"
          ],
          "name": "stdout"
        }
      ]
    },
    {
      "cell_type": "markdown",
      "metadata": {
        "id": "9TDdr4Jc1fA1",
        "colab_type": "text"
      },
      "source": [
        "#### **Algoritmo de colonia de hormigas**\n",
        "\n",
        "Se han implementado las mejoras para la elección del nodo siguiente y el descenso de la temperatura depende de un parámetro rho configurable o tasa de evaporación y el incremento de un parámetro q o multiplicador de la inversa del coste, así a menos coste mayor cantidad añadida de feromona.\n",
        "\n",
        "Adicionalmente se han creado generaciones de hormigas, mejorando la aproximación inicial con una única generación a generation_number generaciones.\n",
        "\n",
        "Esta implementación tendrá por tanto varios hiperparámetros, los más relevantes además de los ya descritos son $\\alpha$ y $\\beta$ que permiten modificar la probabilidad de elección de nodo a expandir de una hormiga para poner más peso en la feromona o en la llamada deseabilidad que no es más que la inversa del coste.\n",
        "\n",
        "Destacaría el uso de la función np.random.choice que devuelve un array de elecciones no uniformes a partir de un array valores y uno de probabilidades de elección sobre el primer array con la misma dimensión. De esta forma se ha calculado el array de probabilidades según la formula:\n",
        "\n",
        "$p^k_{ij}(t) = \\frac{[\\tau_{ij}(t)]^\\alpha[\\nu_{ij}]^\\beta}{\\sum_{l\\in J^k_i} [\\tau_{il}(t)]^\\alpha[\\nu_{il}]^\\beta}$, si $j \\in J^k_i$\n",
        "\n",
        "$p^k_{ij}(t) = 0$, si $j \\notin J^k_i$\n",
        "\n",
        "y luego de las aristas alcanzables se elige con choice el nodo siguiente."
      ]
    },
    {
      "cell_type": "code",
      "metadata": {
        "id": "T9jIwHDS2Ibs",
        "colab_type": "code",
        "colab": {}
      },
      "source": [
        "from functools import reduce\n",
        "from operator import add\n",
        "import numpy as np\n",
        "from math import inf\n",
        "\n",
        "class AntColony:\n",
        "    def __init__(self, tsp:TSP):\n",
        "        self.tsp = tsp\n",
        "        self.trails = {}\n",
        "        self.ants = []\n",
        "        self.ants_distances = []\n",
        "        self.alpha = .1\n",
        "        self.beta = .1\n",
        "        self.rho = .1\n",
        "        self.generations_number = 10\n",
        "        self.number_of_ants = 100\n",
        "        self.initial_theta = .1\n",
        "        self.Q =1000\n",
        "\n",
        "    def init_trails(self):\n",
        "        self.trails = {k: 1 for k in self.tsp.edges}\n",
        "\n",
        "    def init_ants(self):\n",
        "        self.ants = [[0] for _ in range(self.number_of_ants)]\n",
        "        self.ants_distances = [inf for _ in range(self.number_of_ants)]\n",
        "\n",
        "    def desiderability(self, edge : tuple) -> float:\n",
        "        return 1/self.tsp.weight(edge[0], edge[1])\n",
        "\n",
        "    def choose_next_node(self, ant: int):\n",
        "        # this calculates reachable edges from last position visited by ant\n",
        "        last_node = self.ants[ant][-1]\n",
        "        left_nodes = list(set(self.tsp.nodes)-set(self.ants[ant]))\n",
        "        reachable_edges = [edge for edge in tsp.edges if edge[0] == last_node and edge[1] in left_nodes]\n",
        "        # calculate denominator of probability term\n",
        "        sum_factors = reduce(add, [(self.trails[edge]**self.alpha) * (self.desiderability(edge)**self.beta) for edge in reachable_edges])\n",
        "        # list of probabilities for each edge to be selected\n",
        "        probabilities = [(self.trails[edge]**self.alpha) * (self.desiderability(edge)**self.beta) / sum_factors for edge in reachable_edges]\n",
        "        # choice a position with calculated probabilities return a list of positions (only one because the second parameter)\n",
        "        to_return = np.random.choice(range(len(probabilities)),\n",
        "                                     1,\n",
        "                                     replace=False,\n",
        "                                     p=probabilities)\n",
        "\n",
        "        return reachable_edges[to_return[0]][1]\n",
        "\n",
        "    def increase_trail(self):\n",
        "        for ant in range(self.number_of_ants):\n",
        "            ant_s = self.ants[ant]\n",
        "            ant_s_distance = self.ants_distances[ant]\n",
        "\n",
        "            for i in range(self.tsp.dimension - 1):\n",
        "                self.trails[(ant_s[i], ant_s[i+1])] += self.Q / ant_s_distance\n",
        "\n",
        "            self.trails[(ant_s[-1], ant_s[0])] += self.Q / ant_s_distance\n",
        "\n",
        "    def decrease_trails(self):\n",
        "        self.trails = {k: max(v  - self.rho, self.initial_theta) for k, v in self.trails.items()}\n",
        "\n",
        "    def ant_colony(self, number_of_ants: int = 42, alpha: float = 2, beta: float = 2,\n",
        "                   rho: float = .2, generations_number: int = 20, initial_theta: float = 0.01,\n",
        "                   q: float = 500):\n",
        "        self.alpha = alpha\n",
        "        self.beta = beta\n",
        "        self.rho = rho\n",
        "        self.generations_number = generations_number\n",
        "        self.number_of_ants = number_of_ants\n",
        "        self.initial_theta = initial_theta\n",
        "        self.Q = q\n",
        "        self.init_trails()\n",
        "\n",
        "        best_solution = []\n",
        "        distance_best_solution = inf\n",
        "\n",
        "        for gen in range(self.generations_number):\n",
        "            self.init_ants()\n",
        "            for ant in range(number_of_ants):\n",
        "                for _ in range(self.tsp.dimension - 1):\n",
        "                    new_node = self.choose_next_node(ant)\n",
        "                    self.ants[ant].append(new_node)\n",
        "\n",
        "                self.ants_distances[ant] = self.tsp.distance(self.ants[ant]) #Just to optimize calculations\n",
        "                # select best ant\n",
        "                if self.ants_distances[ant] < distance_best_solution:\n",
        "                    distance_best_solution = self.ants_distances[ant]\n",
        "                    best_solution = self.ants[ant]\n",
        "\n",
        "            self.increase_trail()\n",
        "            self.decrease_trails()\n",
        "\n",
        "\n",
        "\n",
        "        #print(self.trails)\n",
        "        return best_solution, distance_best_solution"
      ],
      "execution_count": null,
      "outputs": []
    },
    {
      "cell_type": "markdown",
      "metadata": {
        "id": "K_BwC5OX2aKU",
        "colab_type": "text"
      },
      "source": [
        "##### **Solución para la busqueda por colonia de hormigas**\n",
        "La mejor conseguida es de 1313 que se acerca mucho a la mejor 1270."
      ]
    },
    {
      "cell_type": "code",
      "metadata": {
        "id": "pmBzExLK2lLc",
        "colab_type": "code",
        "colab": {
          "base_uri": "https://localhost:8080/",
          "height": 55
        },
        "outputId": "bc4366a2-86e3-458d-f73a-0cf553ed19a5"
      },
      "source": [
        "rs = AntColony(tsp)\n",
        "\n",
        "solution, distance = rs.ant_colony()\n",
        "print(\"La mejor solución es {} con una distancia de {}\".format(solution, distance))"
      ],
      "execution_count": null,
      "outputs": [
        {
          "output_type": "stream",
          "text": [
            "La mejor solución es [0, 1, 6, 4, 3, 27, 2, 28, 29, 30, 38, 22, 39, 21, 40, 24, 41, 23, 9, 8, 10, 25, 11, 12, 18, 26, 5, 13, 19, 14, 16, 15, 37, 7, 17, 31, 36, 35, 33, 20, 34, 32] con una distancia de 1313\n"
          ],
          "name": "stdout"
        }
      ]
    },
    {
      "cell_type": "markdown",
      "metadata": {
        "id": "x22Xedxun4dX",
        "colab_type": "text"
      },
      "source": [
        "#### **Anexo**\n",
        "Incluyo en esta sección la bibliografía consultada aunque de la mayoría no dispongo de link, puesto que me he ido bajando diferentes trabajos y al final he seleccionado los que me han parecido más interesantes sobre todo para el algoritmo de la colonia de hormigas.\n",
        "\n",
        "- [Wikipedia](https://en.wikipedia.org/wiki/Ant_colony_optimization_algorithms)\n",
        "- [Artículo de Fernando Sancho Caparrini](http://www.cs.us.es/~fsancho/?e=71) \n",
        "- [Note on the Parameter of Evaporation in the AntColony Optimization Algorithm](http://www.m-hikari.com/imf-2011/33-36-2011/kumarpIMF33-36-2011.pdf)\n",
        "- Memoria de un TFM de la Universidad Complutense.\n",
        "- Algoritmo ACO aplicado al TSP: Resumen de una experiencia práctica departamento de informática de la USM."
      ]
    }
  ]
}